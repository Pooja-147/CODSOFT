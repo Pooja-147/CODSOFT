{
  "cells": [
    {
      "cell_type": "markdown",
      "id": "93abd624",
      "metadata": {
        "id": "93abd624",
        "papermill": {
          "duration": 0.020381,
          "end_time": "2023-09-05T21:09:58.933802",
          "exception": false,
          "start_time": "2023-09-05T21:09:58.913421",
          "status": "completed"
        },
        "tags": []
      },
      "source": [
        "**Credit Card Fraud Detection**"
      ]
    },
    {
      "cell_type": "code",
      "execution_count": 54,
      "id": "23d5330f",
      "metadata": {
        "execution": {
          "iopub.execute_input": "2023-09-05T21:09:59.014110Z",
          "iopub.status.busy": "2023-09-05T21:09:59.013533Z",
          "iopub.status.idle": "2023-09-05T21:09:59.780579Z",
          "shell.execute_reply": "2023-09-05T21:09:59.779636Z"
        },
        "papermill": {
          "duration": 0.790092,
          "end_time": "2023-09-05T21:09:59.782978",
          "exception": false,
          "start_time": "2023-09-05T21:09:58.992886",
          "status": "completed"
        },
        "tags": [],
        "id": "23d5330f"
      },
      "outputs": [],
      "source": [
        "import os # accessing directory structure\n",
        "import pandas as pd # data processing, CSV file I/O (e.g. pd.read_csv)"
      ]
    },
    {
      "cell_type": "code",
      "execution_count": 55,
      "id": "d497264e",
      "metadata": {
        "execution": {
          "iopub.execute_input": "2023-09-05T21:09:59.825815Z",
          "iopub.status.busy": "2023-09-05T21:09:59.824272Z",
          "iopub.status.idle": "2023-09-05T21:09:59.839514Z",
          "shell.execute_reply": "2023-09-05T21:09:59.838677Z"
        },
        "id": "d497264e",
        "papermill": {
          "duration": 0.038392,
          "end_time": "2023-09-05T21:09:59.841502",
          "exception": false,
          "start_time": "2023-09-05T21:09:59.803110",
          "status": "completed"
        },
        "tags": []
      },
      "outputs": [],
      "source": [
        "for dirname, _, filenames in os.walk('/kaggle/input'):\n",
        "    for filename in filenames:\n",
        "        print(os.path.join(dirname, filename))"
      ]
    },
    {
      "cell_type": "code",
      "execution_count": 56,
      "id": "ef7d8fff",
      "metadata": {
        "execution": {
          "iopub.execute_input": "2023-09-05T21:09:59.883487Z",
          "iopub.status.busy": "2023-09-05T21:09:59.882118Z",
          "iopub.status.idle": "2023-09-05T21:10:01.020275Z",
          "shell.execute_reply": "2023-09-05T21:10:01.019352Z"
        },
        "id": "ef7d8fff",
        "papermill": {
          "duration": 1.161359,
          "end_time": "2023-09-05T21:10:01.022602",
          "exception": false,
          "start_time": "2023-09-05T21:09:59.861243",
          "status": "completed"
        },
        "tags": []
      },
      "outputs": [],
      "source": [
        "#Importing the libraries\n",
        "import numpy as np\n",
        "import pandas as pd\n",
        "import matplotlib.pyplot as plt\n",
        "import seaborn as sns\n",
        "\n"
      ]
    },
    {
      "cell_type": "code",
      "execution_count": 57,
      "id": "b26a3086",
      "metadata": {
        "execution": {
          "iopub.execute_input": "2023-09-05T21:10:01.064761Z",
          "iopub.status.busy": "2023-09-05T21:10:01.064461Z",
          "iopub.status.idle": "2023-09-05T21:10:04.427240Z",
          "shell.execute_reply": "2023-09-05T21:10:04.426225Z"
        },
        "id": "b26a3086",
        "papermill": {
          "duration": 3.386502,
          "end_time": "2023-09-05T21:10:04.430143",
          "exception": false,
          "start_time": "2023-09-05T21:10:01.043641",
          "status": "completed"
        },
        "tags": [],
        "colab": {
          "base_uri": "https://localhost:8080/",
          "height": 461
        },
        "outputId": "6560d8c6-e7bb-4016-a0c9-0b42dc71d163"
      },
      "outputs": [
        {
          "output_type": "stream",
          "name": "stdout",
          "text": [
            "Drive already mounted at /content/drive; to attempt to forcibly remount, call drive.mount(\"/content/drive\", force_remount=True).\n"
          ]
        },
        {
          "output_type": "execute_result",
          "data": {
            "text/plain": [
              "            Time         V1         V2        V3        V4        V5  \\\n",
              "0            0.0  -1.359807  -0.072781  2.536347  1.378155 -0.338321   \n",
              "1            0.0   1.191857   0.266151  0.166480  0.448154  0.060018   \n",
              "2            1.0  -1.358354  -1.340163  1.773209  0.379780 -0.503198   \n",
              "3            1.0  -0.966272  -0.185226  1.792993 -0.863291 -0.010309   \n",
              "4            2.0  -1.158233   0.877737  1.548718  0.403034 -0.407193   \n",
              "...          ...        ...        ...       ...       ...       ...   \n",
              "284802  172786.0 -11.881118  10.071785 -9.834783 -2.066656 -5.364473   \n",
              "284803  172787.0  -0.732789  -0.055080  2.035030 -0.738589  0.868229   \n",
              "284804  172788.0   1.919565  -0.301254 -3.249640 -0.557828  2.630515   \n",
              "284805  172788.0  -0.240440   0.530483  0.702510  0.689799 -0.377961   \n",
              "284806  172792.0  -0.533413  -0.189733  0.703337 -0.506271 -0.012546   \n",
              "\n",
              "              V6        V7        V8        V9  ...       V21       V22  \\\n",
              "0       0.462388  0.239599  0.098698  0.363787  ... -0.018307  0.277838   \n",
              "1      -0.082361 -0.078803  0.085102 -0.255425  ... -0.225775 -0.638672   \n",
              "2       1.800499  0.791461  0.247676 -1.514654  ...  0.247998  0.771679   \n",
              "3       1.247203  0.237609  0.377436 -1.387024  ... -0.108300  0.005274   \n",
              "4       0.095921  0.592941 -0.270533  0.817739  ... -0.009431  0.798278   \n",
              "...          ...       ...       ...       ...  ...       ...       ...   \n",
              "284802 -2.606837 -4.918215  7.305334  1.914428  ...  0.213454  0.111864   \n",
              "284803  1.058415  0.024330  0.294869  0.584800  ...  0.214205  0.924384   \n",
              "284804  3.031260 -0.296827  0.708417  0.432454  ...  0.232045  0.578229   \n",
              "284805  0.623708 -0.686180  0.679145  0.392087  ...  0.265245  0.800049   \n",
              "284806 -0.649617  1.577006 -0.414650  0.486180  ...  0.261057  0.643078   \n",
              "\n",
              "             V23       V24       V25       V26       V27       V28  Amount  \\\n",
              "0      -0.110474  0.066928  0.128539 -0.189115  0.133558 -0.021053  149.62   \n",
              "1       0.101288 -0.339846  0.167170  0.125895 -0.008983  0.014724    2.69   \n",
              "2       0.909412 -0.689281 -0.327642 -0.139097 -0.055353 -0.059752  378.66   \n",
              "3      -0.190321 -1.175575  0.647376 -0.221929  0.062723  0.061458  123.50   \n",
              "4      -0.137458  0.141267 -0.206010  0.502292  0.219422  0.215153   69.99   \n",
              "...          ...       ...       ...       ...       ...       ...     ...   \n",
              "284802  1.014480 -0.509348  1.436807  0.250034  0.943651  0.823731    0.77   \n",
              "284803  0.012463 -1.016226 -0.606624 -0.395255  0.068472 -0.053527   24.79   \n",
              "284804 -0.037501  0.640134  0.265745 -0.087371  0.004455 -0.026561   67.88   \n",
              "284805 -0.163298  0.123205 -0.569159  0.546668  0.108821  0.104533   10.00   \n",
              "284806  0.376777  0.008797 -0.473649 -0.818267 -0.002415  0.013649  217.00   \n",
              "\n",
              "        Class  \n",
              "0           0  \n",
              "1           0  \n",
              "2           0  \n",
              "3           0  \n",
              "4           0  \n",
              "...       ...  \n",
              "284802      0  \n",
              "284803      0  \n",
              "284804      0  \n",
              "284805      0  \n",
              "284806      0  \n",
              "\n",
              "[284807 rows x 31 columns]"
            ],
            "text/html": [
              "\n",
              "  <div id=\"df-ad51d0f4-bb92-4ffa-8d23-7faec1588852\" class=\"colab-df-container\">\n",
              "    <div>\n",
              "<style scoped>\n",
              "    .dataframe tbody tr th:only-of-type {\n",
              "        vertical-align: middle;\n",
              "    }\n",
              "\n",
              "    .dataframe tbody tr th {\n",
              "        vertical-align: top;\n",
              "    }\n",
              "\n",
              "    .dataframe thead th {\n",
              "        text-align: right;\n",
              "    }\n",
              "</style>\n",
              "<table border=\"1\" class=\"dataframe\">\n",
              "  <thead>\n",
              "    <tr style=\"text-align: right;\">\n",
              "      <th></th>\n",
              "      <th>Time</th>\n",
              "      <th>V1</th>\n",
              "      <th>V2</th>\n",
              "      <th>V3</th>\n",
              "      <th>V4</th>\n",
              "      <th>V5</th>\n",
              "      <th>V6</th>\n",
              "      <th>V7</th>\n",
              "      <th>V8</th>\n",
              "      <th>V9</th>\n",
              "      <th>...</th>\n",
              "      <th>V21</th>\n",
              "      <th>V22</th>\n",
              "      <th>V23</th>\n",
              "      <th>V24</th>\n",
              "      <th>V25</th>\n",
              "      <th>V26</th>\n",
              "      <th>V27</th>\n",
              "      <th>V28</th>\n",
              "      <th>Amount</th>\n",
              "      <th>Class</th>\n",
              "    </tr>\n",
              "  </thead>\n",
              "  <tbody>\n",
              "    <tr>\n",
              "      <th>0</th>\n",
              "      <td>0.0</td>\n",
              "      <td>-1.359807</td>\n",
              "      <td>-0.072781</td>\n",
              "      <td>2.536347</td>\n",
              "      <td>1.378155</td>\n",
              "      <td>-0.338321</td>\n",
              "      <td>0.462388</td>\n",
              "      <td>0.239599</td>\n",
              "      <td>0.098698</td>\n",
              "      <td>0.363787</td>\n",
              "      <td>...</td>\n",
              "      <td>-0.018307</td>\n",
              "      <td>0.277838</td>\n",
              "      <td>-0.110474</td>\n",
              "      <td>0.066928</td>\n",
              "      <td>0.128539</td>\n",
              "      <td>-0.189115</td>\n",
              "      <td>0.133558</td>\n",
              "      <td>-0.021053</td>\n",
              "      <td>149.62</td>\n",
              "      <td>0</td>\n",
              "    </tr>\n",
              "    <tr>\n",
              "      <th>1</th>\n",
              "      <td>0.0</td>\n",
              "      <td>1.191857</td>\n",
              "      <td>0.266151</td>\n",
              "      <td>0.166480</td>\n",
              "      <td>0.448154</td>\n",
              "      <td>0.060018</td>\n",
              "      <td>-0.082361</td>\n",
              "      <td>-0.078803</td>\n",
              "      <td>0.085102</td>\n",
              "      <td>-0.255425</td>\n",
              "      <td>...</td>\n",
              "      <td>-0.225775</td>\n",
              "      <td>-0.638672</td>\n",
              "      <td>0.101288</td>\n",
              "      <td>-0.339846</td>\n",
              "      <td>0.167170</td>\n",
              "      <td>0.125895</td>\n",
              "      <td>-0.008983</td>\n",
              "      <td>0.014724</td>\n",
              "      <td>2.69</td>\n",
              "      <td>0</td>\n",
              "    </tr>\n",
              "    <tr>\n",
              "      <th>2</th>\n",
              "      <td>1.0</td>\n",
              "      <td>-1.358354</td>\n",
              "      <td>-1.340163</td>\n",
              "      <td>1.773209</td>\n",
              "      <td>0.379780</td>\n",
              "      <td>-0.503198</td>\n",
              "      <td>1.800499</td>\n",
              "      <td>0.791461</td>\n",
              "      <td>0.247676</td>\n",
              "      <td>-1.514654</td>\n",
              "      <td>...</td>\n",
              "      <td>0.247998</td>\n",
              "      <td>0.771679</td>\n",
              "      <td>0.909412</td>\n",
              "      <td>-0.689281</td>\n",
              "      <td>-0.327642</td>\n",
              "      <td>-0.139097</td>\n",
              "      <td>-0.055353</td>\n",
              "      <td>-0.059752</td>\n",
              "      <td>378.66</td>\n",
              "      <td>0</td>\n",
              "    </tr>\n",
              "    <tr>\n",
              "      <th>3</th>\n",
              "      <td>1.0</td>\n",
              "      <td>-0.966272</td>\n",
              "      <td>-0.185226</td>\n",
              "      <td>1.792993</td>\n",
              "      <td>-0.863291</td>\n",
              "      <td>-0.010309</td>\n",
              "      <td>1.247203</td>\n",
              "      <td>0.237609</td>\n",
              "      <td>0.377436</td>\n",
              "      <td>-1.387024</td>\n",
              "      <td>...</td>\n",
              "      <td>-0.108300</td>\n",
              "      <td>0.005274</td>\n",
              "      <td>-0.190321</td>\n",
              "      <td>-1.175575</td>\n",
              "      <td>0.647376</td>\n",
              "      <td>-0.221929</td>\n",
              "      <td>0.062723</td>\n",
              "      <td>0.061458</td>\n",
              "      <td>123.50</td>\n",
              "      <td>0</td>\n",
              "    </tr>\n",
              "    <tr>\n",
              "      <th>4</th>\n",
              "      <td>2.0</td>\n",
              "      <td>-1.158233</td>\n",
              "      <td>0.877737</td>\n",
              "      <td>1.548718</td>\n",
              "      <td>0.403034</td>\n",
              "      <td>-0.407193</td>\n",
              "      <td>0.095921</td>\n",
              "      <td>0.592941</td>\n",
              "      <td>-0.270533</td>\n",
              "      <td>0.817739</td>\n",
              "      <td>...</td>\n",
              "      <td>-0.009431</td>\n",
              "      <td>0.798278</td>\n",
              "      <td>-0.137458</td>\n",
              "      <td>0.141267</td>\n",
              "      <td>-0.206010</td>\n",
              "      <td>0.502292</td>\n",
              "      <td>0.219422</td>\n",
              "      <td>0.215153</td>\n",
              "      <td>69.99</td>\n",
              "      <td>0</td>\n",
              "    </tr>\n",
              "    <tr>\n",
              "      <th>...</th>\n",
              "      <td>...</td>\n",
              "      <td>...</td>\n",
              "      <td>...</td>\n",
              "      <td>...</td>\n",
              "      <td>...</td>\n",
              "      <td>...</td>\n",
              "      <td>...</td>\n",
              "      <td>...</td>\n",
              "      <td>...</td>\n",
              "      <td>...</td>\n",
              "      <td>...</td>\n",
              "      <td>...</td>\n",
              "      <td>...</td>\n",
              "      <td>...</td>\n",
              "      <td>...</td>\n",
              "      <td>...</td>\n",
              "      <td>...</td>\n",
              "      <td>...</td>\n",
              "      <td>...</td>\n",
              "      <td>...</td>\n",
              "      <td>...</td>\n",
              "    </tr>\n",
              "    <tr>\n",
              "      <th>284802</th>\n",
              "      <td>172786.0</td>\n",
              "      <td>-11.881118</td>\n",
              "      <td>10.071785</td>\n",
              "      <td>-9.834783</td>\n",
              "      <td>-2.066656</td>\n",
              "      <td>-5.364473</td>\n",
              "      <td>-2.606837</td>\n",
              "      <td>-4.918215</td>\n",
              "      <td>7.305334</td>\n",
              "      <td>1.914428</td>\n",
              "      <td>...</td>\n",
              "      <td>0.213454</td>\n",
              "      <td>0.111864</td>\n",
              "      <td>1.014480</td>\n",
              "      <td>-0.509348</td>\n",
              "      <td>1.436807</td>\n",
              "      <td>0.250034</td>\n",
              "      <td>0.943651</td>\n",
              "      <td>0.823731</td>\n",
              "      <td>0.77</td>\n",
              "      <td>0</td>\n",
              "    </tr>\n",
              "    <tr>\n",
              "      <th>284803</th>\n",
              "      <td>172787.0</td>\n",
              "      <td>-0.732789</td>\n",
              "      <td>-0.055080</td>\n",
              "      <td>2.035030</td>\n",
              "      <td>-0.738589</td>\n",
              "      <td>0.868229</td>\n",
              "      <td>1.058415</td>\n",
              "      <td>0.024330</td>\n",
              "      <td>0.294869</td>\n",
              "      <td>0.584800</td>\n",
              "      <td>...</td>\n",
              "      <td>0.214205</td>\n",
              "      <td>0.924384</td>\n",
              "      <td>0.012463</td>\n",
              "      <td>-1.016226</td>\n",
              "      <td>-0.606624</td>\n",
              "      <td>-0.395255</td>\n",
              "      <td>0.068472</td>\n",
              "      <td>-0.053527</td>\n",
              "      <td>24.79</td>\n",
              "      <td>0</td>\n",
              "    </tr>\n",
              "    <tr>\n",
              "      <th>284804</th>\n",
              "      <td>172788.0</td>\n",
              "      <td>1.919565</td>\n",
              "      <td>-0.301254</td>\n",
              "      <td>-3.249640</td>\n",
              "      <td>-0.557828</td>\n",
              "      <td>2.630515</td>\n",
              "      <td>3.031260</td>\n",
              "      <td>-0.296827</td>\n",
              "      <td>0.708417</td>\n",
              "      <td>0.432454</td>\n",
              "      <td>...</td>\n",
              "      <td>0.232045</td>\n",
              "      <td>0.578229</td>\n",
              "      <td>-0.037501</td>\n",
              "      <td>0.640134</td>\n",
              "      <td>0.265745</td>\n",
              "      <td>-0.087371</td>\n",
              "      <td>0.004455</td>\n",
              "      <td>-0.026561</td>\n",
              "      <td>67.88</td>\n",
              "      <td>0</td>\n",
              "    </tr>\n",
              "    <tr>\n",
              "      <th>284805</th>\n",
              "      <td>172788.0</td>\n",
              "      <td>-0.240440</td>\n",
              "      <td>0.530483</td>\n",
              "      <td>0.702510</td>\n",
              "      <td>0.689799</td>\n",
              "      <td>-0.377961</td>\n",
              "      <td>0.623708</td>\n",
              "      <td>-0.686180</td>\n",
              "      <td>0.679145</td>\n",
              "      <td>0.392087</td>\n",
              "      <td>...</td>\n",
              "      <td>0.265245</td>\n",
              "      <td>0.800049</td>\n",
              "      <td>-0.163298</td>\n",
              "      <td>0.123205</td>\n",
              "      <td>-0.569159</td>\n",
              "      <td>0.546668</td>\n",
              "      <td>0.108821</td>\n",
              "      <td>0.104533</td>\n",
              "      <td>10.00</td>\n",
              "      <td>0</td>\n",
              "    </tr>\n",
              "    <tr>\n",
              "      <th>284806</th>\n",
              "      <td>172792.0</td>\n",
              "      <td>-0.533413</td>\n",
              "      <td>-0.189733</td>\n",
              "      <td>0.703337</td>\n",
              "      <td>-0.506271</td>\n",
              "      <td>-0.012546</td>\n",
              "      <td>-0.649617</td>\n",
              "      <td>1.577006</td>\n",
              "      <td>-0.414650</td>\n",
              "      <td>0.486180</td>\n",
              "      <td>...</td>\n",
              "      <td>0.261057</td>\n",
              "      <td>0.643078</td>\n",
              "      <td>0.376777</td>\n",
              "      <td>0.008797</td>\n",
              "      <td>-0.473649</td>\n",
              "      <td>-0.818267</td>\n",
              "      <td>-0.002415</td>\n",
              "      <td>0.013649</td>\n",
              "      <td>217.00</td>\n",
              "      <td>0</td>\n",
              "    </tr>\n",
              "  </tbody>\n",
              "</table>\n",
              "<p>284807 rows × 31 columns</p>\n",
              "</div>\n",
              "    <div class=\"colab-df-buttons\">\n",
              "\n",
              "  <div class=\"colab-df-container\">\n",
              "    <button class=\"colab-df-convert\" onclick=\"convertToInteractive('df-ad51d0f4-bb92-4ffa-8d23-7faec1588852')\"\n",
              "            title=\"Convert this dataframe to an interactive table.\"\n",
              "            style=\"display:none;\">\n",
              "\n",
              "  <svg xmlns=\"http://www.w3.org/2000/svg\" height=\"24px\" viewBox=\"0 -960 960 960\">\n",
              "    <path d=\"M120-120v-720h720v720H120Zm60-500h600v-160H180v160Zm220 220h160v-160H400v160Zm0 220h160v-160H400v160ZM180-400h160v-160H180v160Zm440 0h160v-160H620v160ZM180-180h160v-160H180v160Zm440 0h160v-160H620v160Z\"/>\n",
              "  </svg>\n",
              "    </button>\n",
              "\n",
              "  <style>\n",
              "    .colab-df-container {\n",
              "      display:flex;\n",
              "      gap: 12px;\n",
              "    }\n",
              "\n",
              "    .colab-df-convert {\n",
              "      background-color: #E8F0FE;\n",
              "      border: none;\n",
              "      border-radius: 50%;\n",
              "      cursor: pointer;\n",
              "      display: none;\n",
              "      fill: #1967D2;\n",
              "      height: 32px;\n",
              "      padding: 0 0 0 0;\n",
              "      width: 32px;\n",
              "    }\n",
              "\n",
              "    .colab-df-convert:hover {\n",
              "      background-color: #E2EBFA;\n",
              "      box-shadow: 0px 1px 2px rgba(60, 64, 67, 0.3), 0px 1px 3px 1px rgba(60, 64, 67, 0.15);\n",
              "      fill: #174EA6;\n",
              "    }\n",
              "\n",
              "    .colab-df-buttons div {\n",
              "      margin-bottom: 4px;\n",
              "    }\n",
              "\n",
              "    [theme=dark] .colab-df-convert {\n",
              "      background-color: #3B4455;\n",
              "      fill: #D2E3FC;\n",
              "    }\n",
              "\n",
              "    [theme=dark] .colab-df-convert:hover {\n",
              "      background-color: #434B5C;\n",
              "      box-shadow: 0px 1px 3px 1px rgba(0, 0, 0, 0.15);\n",
              "      filter: drop-shadow(0px 1px 2px rgba(0, 0, 0, 0.3));\n",
              "      fill: #FFFFFF;\n",
              "    }\n",
              "  </style>\n",
              "\n",
              "    <script>\n",
              "      const buttonEl =\n",
              "        document.querySelector('#df-ad51d0f4-bb92-4ffa-8d23-7faec1588852 button.colab-df-convert');\n",
              "      buttonEl.style.display =\n",
              "        google.colab.kernel.accessAllowed ? 'block' : 'none';\n",
              "\n",
              "      async function convertToInteractive(key) {\n",
              "        const element = document.querySelector('#df-ad51d0f4-bb92-4ffa-8d23-7faec1588852');\n",
              "        const dataTable =\n",
              "          await google.colab.kernel.invokeFunction('convertToInteractive',\n",
              "                                                    [key], {});\n",
              "        if (!dataTable) return;\n",
              "\n",
              "        const docLinkHtml = 'Like what you see? Visit the ' +\n",
              "          '<a target=\"_blank\" href=https://colab.research.google.com/notebooks/data_table.ipynb>data table notebook</a>'\n",
              "          + ' to learn more about interactive tables.';\n",
              "        element.innerHTML = '';\n",
              "        dataTable['output_type'] = 'display_data';\n",
              "        await google.colab.output.renderOutput(dataTable, element);\n",
              "        const docLink = document.createElement('div');\n",
              "        docLink.innerHTML = docLinkHtml;\n",
              "        element.appendChild(docLink);\n",
              "      }\n",
              "    </script>\n",
              "  </div>\n",
              "\n",
              "\n",
              "<div id=\"df-3f8fb739-f818-47b4-8c5e-387ee1ebc451\">\n",
              "  <button class=\"colab-df-quickchart\" onclick=\"quickchart('df-3f8fb739-f818-47b4-8c5e-387ee1ebc451')\"\n",
              "            title=\"Suggest charts.\"\n",
              "            style=\"display:none;\">\n",
              "\n",
              "<svg xmlns=\"http://www.w3.org/2000/svg\" height=\"24px\"viewBox=\"0 0 24 24\"\n",
              "     width=\"24px\">\n",
              "    <g>\n",
              "        <path d=\"M19 3H5c-1.1 0-2 .9-2 2v14c0 1.1.9 2 2 2h14c1.1 0 2-.9 2-2V5c0-1.1-.9-2-2-2zM9 17H7v-7h2v7zm4 0h-2V7h2v10zm4 0h-2v-4h2v4z\"/>\n",
              "    </g>\n",
              "</svg>\n",
              "  </button>\n",
              "\n",
              "<style>\n",
              "  .colab-df-quickchart {\n",
              "      --bg-color: #E8F0FE;\n",
              "      --fill-color: #1967D2;\n",
              "      --hover-bg-color: #E2EBFA;\n",
              "      --hover-fill-color: #174EA6;\n",
              "      --disabled-fill-color: #AAA;\n",
              "      --disabled-bg-color: #DDD;\n",
              "  }\n",
              "\n",
              "  [theme=dark] .colab-df-quickchart {\n",
              "      --bg-color: #3B4455;\n",
              "      --fill-color: #D2E3FC;\n",
              "      --hover-bg-color: #434B5C;\n",
              "      --hover-fill-color: #FFFFFF;\n",
              "      --disabled-bg-color: #3B4455;\n",
              "      --disabled-fill-color: #666;\n",
              "  }\n",
              "\n",
              "  .colab-df-quickchart {\n",
              "    background-color: var(--bg-color);\n",
              "    border: none;\n",
              "    border-radius: 50%;\n",
              "    cursor: pointer;\n",
              "    display: none;\n",
              "    fill: var(--fill-color);\n",
              "    height: 32px;\n",
              "    padding: 0;\n",
              "    width: 32px;\n",
              "  }\n",
              "\n",
              "  .colab-df-quickchart:hover {\n",
              "    background-color: var(--hover-bg-color);\n",
              "    box-shadow: 0 1px 2px rgba(60, 64, 67, 0.3), 0 1px 3px 1px rgba(60, 64, 67, 0.15);\n",
              "    fill: var(--button-hover-fill-color);\n",
              "  }\n",
              "\n",
              "  .colab-df-quickchart-complete:disabled,\n",
              "  .colab-df-quickchart-complete:disabled:hover {\n",
              "    background-color: var(--disabled-bg-color);\n",
              "    fill: var(--disabled-fill-color);\n",
              "    box-shadow: none;\n",
              "  }\n",
              "\n",
              "  .colab-df-spinner {\n",
              "    border: 2px solid var(--fill-color);\n",
              "    border-color: transparent;\n",
              "    border-bottom-color: var(--fill-color);\n",
              "    animation:\n",
              "      spin 1s steps(1) infinite;\n",
              "  }\n",
              "\n",
              "  @keyframes spin {\n",
              "    0% {\n",
              "      border-color: transparent;\n",
              "      border-bottom-color: var(--fill-color);\n",
              "      border-left-color: var(--fill-color);\n",
              "    }\n",
              "    20% {\n",
              "      border-color: transparent;\n",
              "      border-left-color: var(--fill-color);\n",
              "      border-top-color: var(--fill-color);\n",
              "    }\n",
              "    30% {\n",
              "      border-color: transparent;\n",
              "      border-left-color: var(--fill-color);\n",
              "      border-top-color: var(--fill-color);\n",
              "      border-right-color: var(--fill-color);\n",
              "    }\n",
              "    40% {\n",
              "      border-color: transparent;\n",
              "      border-right-color: var(--fill-color);\n",
              "      border-top-color: var(--fill-color);\n",
              "    }\n",
              "    60% {\n",
              "      border-color: transparent;\n",
              "      border-right-color: var(--fill-color);\n",
              "    }\n",
              "    80% {\n",
              "      border-color: transparent;\n",
              "      border-right-color: var(--fill-color);\n",
              "      border-bottom-color: var(--fill-color);\n",
              "    }\n",
              "    90% {\n",
              "      border-color: transparent;\n",
              "      border-bottom-color: var(--fill-color);\n",
              "    }\n",
              "  }\n",
              "</style>\n",
              "\n",
              "  <script>\n",
              "    async function quickchart(key) {\n",
              "      const quickchartButtonEl =\n",
              "        document.querySelector('#' + key + ' button');\n",
              "      quickchartButtonEl.disabled = true;  // To prevent multiple clicks.\n",
              "      quickchartButtonEl.classList.add('colab-df-spinner');\n",
              "      try {\n",
              "        const charts = await google.colab.kernel.invokeFunction(\n",
              "            'suggestCharts', [key], {});\n",
              "      } catch (error) {\n",
              "        console.error('Error during call to suggestCharts:', error);\n",
              "      }\n",
              "      quickchartButtonEl.classList.remove('colab-df-spinner');\n",
              "      quickchartButtonEl.classList.add('colab-df-quickchart-complete');\n",
              "    }\n",
              "    (() => {\n",
              "      let quickchartButtonEl =\n",
              "        document.querySelector('#df-3f8fb739-f818-47b4-8c5e-387ee1ebc451 button');\n",
              "      quickchartButtonEl.style.display =\n",
              "        google.colab.kernel.accessAllowed ? 'block' : 'none';\n",
              "    })();\n",
              "  </script>\n",
              "</div>\n",
              "    </div>\n",
              "  </div>\n"
            ]
          },
          "metadata": {},
          "execution_count": 57
        }
      ],
      "source": [
        "from google.colab import drive\n",
        "drive.mount('/content/drive')\n",
        "\n",
        "df = pd.read_csv('/content/drive/MyDrive/creditcard.csv', delimiter=',')\n",
        "\n",
        "# Display the DataFrame\n",
        "df\n",
        "\n"
      ]
    },
    {
      "cell_type": "code",
      "execution_count": 58,
      "id": "79e6930a",
      "metadata": {
        "execution": {
          "iopub.execute_input": "2023-09-05T21:10:04.474045Z",
          "iopub.status.busy": "2023-09-05T21:10:04.473758Z",
          "iopub.status.idle": "2023-09-05T21:10:04.511732Z",
          "shell.execute_reply": "2023-09-05T21:10:04.510924Z"
        },
        "id": "79e6930a",
        "outputId": "2977cf48-f421-490b-9703-d892b6d4876c",
        "papermill": {
          "duration": 0.061417,
          "end_time": "2023-09-05T21:10:04.513794",
          "exception": false,
          "start_time": "2023-09-05T21:10:04.452377",
          "status": "completed"
        },
        "tags": [],
        "colab": {
          "base_uri": "https://localhost:8080/",
          "height": 255
        }
      },
      "outputs": [
        {
          "output_type": "execute_result",
          "data": {
            "text/plain": [
              "   Time        V1        V2        V3        V4        V5        V6        V7  \\\n",
              "0   0.0 -1.359807 -0.072781  2.536347  1.378155 -0.338321  0.462388  0.239599   \n",
              "1   0.0  1.191857  0.266151  0.166480  0.448154  0.060018 -0.082361 -0.078803   \n",
              "2   1.0 -1.358354 -1.340163  1.773209  0.379780 -0.503198  1.800499  0.791461   \n",
              "3   1.0 -0.966272 -0.185226  1.792993 -0.863291 -0.010309  1.247203  0.237609   \n",
              "4   2.0 -1.158233  0.877737  1.548718  0.403034 -0.407193  0.095921  0.592941   \n",
              "\n",
              "         V8        V9  ...       V21       V22       V23       V24       V25  \\\n",
              "0  0.098698  0.363787  ... -0.018307  0.277838 -0.110474  0.066928  0.128539   \n",
              "1  0.085102 -0.255425  ... -0.225775 -0.638672  0.101288 -0.339846  0.167170   \n",
              "2  0.247676 -1.514654  ...  0.247998  0.771679  0.909412 -0.689281 -0.327642   \n",
              "3  0.377436 -1.387024  ... -0.108300  0.005274 -0.190321 -1.175575  0.647376   \n",
              "4 -0.270533  0.817739  ... -0.009431  0.798278 -0.137458  0.141267 -0.206010   \n",
              "\n",
              "        V26       V27       V28  Amount  Class  \n",
              "0 -0.189115  0.133558 -0.021053  149.62      0  \n",
              "1  0.125895 -0.008983  0.014724    2.69      0  \n",
              "2 -0.139097 -0.055353 -0.059752  378.66      0  \n",
              "3 -0.221929  0.062723  0.061458  123.50      0  \n",
              "4  0.502292  0.219422  0.215153   69.99      0  \n",
              "\n",
              "[5 rows x 31 columns]"
            ],
            "text/html": [
              "\n",
              "  <div id=\"df-4c41d229-2b19-4f91-8aab-07aa48b54c8b\" class=\"colab-df-container\">\n",
              "    <div>\n",
              "<style scoped>\n",
              "    .dataframe tbody tr th:only-of-type {\n",
              "        vertical-align: middle;\n",
              "    }\n",
              "\n",
              "    .dataframe tbody tr th {\n",
              "        vertical-align: top;\n",
              "    }\n",
              "\n",
              "    .dataframe thead th {\n",
              "        text-align: right;\n",
              "    }\n",
              "</style>\n",
              "<table border=\"1\" class=\"dataframe\">\n",
              "  <thead>\n",
              "    <tr style=\"text-align: right;\">\n",
              "      <th></th>\n",
              "      <th>Time</th>\n",
              "      <th>V1</th>\n",
              "      <th>V2</th>\n",
              "      <th>V3</th>\n",
              "      <th>V4</th>\n",
              "      <th>V5</th>\n",
              "      <th>V6</th>\n",
              "      <th>V7</th>\n",
              "      <th>V8</th>\n",
              "      <th>V9</th>\n",
              "      <th>...</th>\n",
              "      <th>V21</th>\n",
              "      <th>V22</th>\n",
              "      <th>V23</th>\n",
              "      <th>V24</th>\n",
              "      <th>V25</th>\n",
              "      <th>V26</th>\n",
              "      <th>V27</th>\n",
              "      <th>V28</th>\n",
              "      <th>Amount</th>\n",
              "      <th>Class</th>\n",
              "    </tr>\n",
              "  </thead>\n",
              "  <tbody>\n",
              "    <tr>\n",
              "      <th>0</th>\n",
              "      <td>0.0</td>\n",
              "      <td>-1.359807</td>\n",
              "      <td>-0.072781</td>\n",
              "      <td>2.536347</td>\n",
              "      <td>1.378155</td>\n",
              "      <td>-0.338321</td>\n",
              "      <td>0.462388</td>\n",
              "      <td>0.239599</td>\n",
              "      <td>0.098698</td>\n",
              "      <td>0.363787</td>\n",
              "      <td>...</td>\n",
              "      <td>-0.018307</td>\n",
              "      <td>0.277838</td>\n",
              "      <td>-0.110474</td>\n",
              "      <td>0.066928</td>\n",
              "      <td>0.128539</td>\n",
              "      <td>-0.189115</td>\n",
              "      <td>0.133558</td>\n",
              "      <td>-0.021053</td>\n",
              "      <td>149.62</td>\n",
              "      <td>0</td>\n",
              "    </tr>\n",
              "    <tr>\n",
              "      <th>1</th>\n",
              "      <td>0.0</td>\n",
              "      <td>1.191857</td>\n",
              "      <td>0.266151</td>\n",
              "      <td>0.166480</td>\n",
              "      <td>0.448154</td>\n",
              "      <td>0.060018</td>\n",
              "      <td>-0.082361</td>\n",
              "      <td>-0.078803</td>\n",
              "      <td>0.085102</td>\n",
              "      <td>-0.255425</td>\n",
              "      <td>...</td>\n",
              "      <td>-0.225775</td>\n",
              "      <td>-0.638672</td>\n",
              "      <td>0.101288</td>\n",
              "      <td>-0.339846</td>\n",
              "      <td>0.167170</td>\n",
              "      <td>0.125895</td>\n",
              "      <td>-0.008983</td>\n",
              "      <td>0.014724</td>\n",
              "      <td>2.69</td>\n",
              "      <td>0</td>\n",
              "    </tr>\n",
              "    <tr>\n",
              "      <th>2</th>\n",
              "      <td>1.0</td>\n",
              "      <td>-1.358354</td>\n",
              "      <td>-1.340163</td>\n",
              "      <td>1.773209</td>\n",
              "      <td>0.379780</td>\n",
              "      <td>-0.503198</td>\n",
              "      <td>1.800499</td>\n",
              "      <td>0.791461</td>\n",
              "      <td>0.247676</td>\n",
              "      <td>-1.514654</td>\n",
              "      <td>...</td>\n",
              "      <td>0.247998</td>\n",
              "      <td>0.771679</td>\n",
              "      <td>0.909412</td>\n",
              "      <td>-0.689281</td>\n",
              "      <td>-0.327642</td>\n",
              "      <td>-0.139097</td>\n",
              "      <td>-0.055353</td>\n",
              "      <td>-0.059752</td>\n",
              "      <td>378.66</td>\n",
              "      <td>0</td>\n",
              "    </tr>\n",
              "    <tr>\n",
              "      <th>3</th>\n",
              "      <td>1.0</td>\n",
              "      <td>-0.966272</td>\n",
              "      <td>-0.185226</td>\n",
              "      <td>1.792993</td>\n",
              "      <td>-0.863291</td>\n",
              "      <td>-0.010309</td>\n",
              "      <td>1.247203</td>\n",
              "      <td>0.237609</td>\n",
              "      <td>0.377436</td>\n",
              "      <td>-1.387024</td>\n",
              "      <td>...</td>\n",
              "      <td>-0.108300</td>\n",
              "      <td>0.005274</td>\n",
              "      <td>-0.190321</td>\n",
              "      <td>-1.175575</td>\n",
              "      <td>0.647376</td>\n",
              "      <td>-0.221929</td>\n",
              "      <td>0.062723</td>\n",
              "      <td>0.061458</td>\n",
              "      <td>123.50</td>\n",
              "      <td>0</td>\n",
              "    </tr>\n",
              "    <tr>\n",
              "      <th>4</th>\n",
              "      <td>2.0</td>\n",
              "      <td>-1.158233</td>\n",
              "      <td>0.877737</td>\n",
              "      <td>1.548718</td>\n",
              "      <td>0.403034</td>\n",
              "      <td>-0.407193</td>\n",
              "      <td>0.095921</td>\n",
              "      <td>0.592941</td>\n",
              "      <td>-0.270533</td>\n",
              "      <td>0.817739</td>\n",
              "      <td>...</td>\n",
              "      <td>-0.009431</td>\n",
              "      <td>0.798278</td>\n",
              "      <td>-0.137458</td>\n",
              "      <td>0.141267</td>\n",
              "      <td>-0.206010</td>\n",
              "      <td>0.502292</td>\n",
              "      <td>0.219422</td>\n",
              "      <td>0.215153</td>\n",
              "      <td>69.99</td>\n",
              "      <td>0</td>\n",
              "    </tr>\n",
              "  </tbody>\n",
              "</table>\n",
              "<p>5 rows × 31 columns</p>\n",
              "</div>\n",
              "    <div class=\"colab-df-buttons\">\n",
              "\n",
              "  <div class=\"colab-df-container\">\n",
              "    <button class=\"colab-df-convert\" onclick=\"convertToInteractive('df-4c41d229-2b19-4f91-8aab-07aa48b54c8b')\"\n",
              "            title=\"Convert this dataframe to an interactive table.\"\n",
              "            style=\"display:none;\">\n",
              "\n",
              "  <svg xmlns=\"http://www.w3.org/2000/svg\" height=\"24px\" viewBox=\"0 -960 960 960\">\n",
              "    <path d=\"M120-120v-720h720v720H120Zm60-500h600v-160H180v160Zm220 220h160v-160H400v160Zm0 220h160v-160H400v160ZM180-400h160v-160H180v160Zm440 0h160v-160H620v160ZM180-180h160v-160H180v160Zm440 0h160v-160H620v160Z\"/>\n",
              "  </svg>\n",
              "    </button>\n",
              "\n",
              "  <style>\n",
              "    .colab-df-container {\n",
              "      display:flex;\n",
              "      gap: 12px;\n",
              "    }\n",
              "\n",
              "    .colab-df-convert {\n",
              "      background-color: #E8F0FE;\n",
              "      border: none;\n",
              "      border-radius: 50%;\n",
              "      cursor: pointer;\n",
              "      display: none;\n",
              "      fill: #1967D2;\n",
              "      height: 32px;\n",
              "      padding: 0 0 0 0;\n",
              "      width: 32px;\n",
              "    }\n",
              "\n",
              "    .colab-df-convert:hover {\n",
              "      background-color: #E2EBFA;\n",
              "      box-shadow: 0px 1px 2px rgba(60, 64, 67, 0.3), 0px 1px 3px 1px rgba(60, 64, 67, 0.15);\n",
              "      fill: #174EA6;\n",
              "    }\n",
              "\n",
              "    .colab-df-buttons div {\n",
              "      margin-bottom: 4px;\n",
              "    }\n",
              "\n",
              "    [theme=dark] .colab-df-convert {\n",
              "      background-color: #3B4455;\n",
              "      fill: #D2E3FC;\n",
              "    }\n",
              "\n",
              "    [theme=dark] .colab-df-convert:hover {\n",
              "      background-color: #434B5C;\n",
              "      box-shadow: 0px 1px 3px 1px rgba(0, 0, 0, 0.15);\n",
              "      filter: drop-shadow(0px 1px 2px rgba(0, 0, 0, 0.3));\n",
              "      fill: #FFFFFF;\n",
              "    }\n",
              "  </style>\n",
              "\n",
              "    <script>\n",
              "      const buttonEl =\n",
              "        document.querySelector('#df-4c41d229-2b19-4f91-8aab-07aa48b54c8b button.colab-df-convert');\n",
              "      buttonEl.style.display =\n",
              "        google.colab.kernel.accessAllowed ? 'block' : 'none';\n",
              "\n",
              "      async function convertToInteractive(key) {\n",
              "        const element = document.querySelector('#df-4c41d229-2b19-4f91-8aab-07aa48b54c8b');\n",
              "        const dataTable =\n",
              "          await google.colab.kernel.invokeFunction('convertToInteractive',\n",
              "                                                    [key], {});\n",
              "        if (!dataTable) return;\n",
              "\n",
              "        const docLinkHtml = 'Like what you see? Visit the ' +\n",
              "          '<a target=\"_blank\" href=https://colab.research.google.com/notebooks/data_table.ipynb>data table notebook</a>'\n",
              "          + ' to learn more about interactive tables.';\n",
              "        element.innerHTML = '';\n",
              "        dataTable['output_type'] = 'display_data';\n",
              "        await google.colab.output.renderOutput(dataTable, element);\n",
              "        const docLink = document.createElement('div');\n",
              "        docLink.innerHTML = docLinkHtml;\n",
              "        element.appendChild(docLink);\n",
              "      }\n",
              "    </script>\n",
              "  </div>\n",
              "\n",
              "\n",
              "<div id=\"df-54e30344-4d02-4e03-b7f0-d548eca7a97c\">\n",
              "  <button class=\"colab-df-quickchart\" onclick=\"quickchart('df-54e30344-4d02-4e03-b7f0-d548eca7a97c')\"\n",
              "            title=\"Suggest charts.\"\n",
              "            style=\"display:none;\">\n",
              "\n",
              "<svg xmlns=\"http://www.w3.org/2000/svg\" height=\"24px\"viewBox=\"0 0 24 24\"\n",
              "     width=\"24px\">\n",
              "    <g>\n",
              "        <path d=\"M19 3H5c-1.1 0-2 .9-2 2v14c0 1.1.9 2 2 2h14c1.1 0 2-.9 2-2V5c0-1.1-.9-2-2-2zM9 17H7v-7h2v7zm4 0h-2V7h2v10zm4 0h-2v-4h2v4z\"/>\n",
              "    </g>\n",
              "</svg>\n",
              "  </button>\n",
              "\n",
              "<style>\n",
              "  .colab-df-quickchart {\n",
              "      --bg-color: #E8F0FE;\n",
              "      --fill-color: #1967D2;\n",
              "      --hover-bg-color: #E2EBFA;\n",
              "      --hover-fill-color: #174EA6;\n",
              "      --disabled-fill-color: #AAA;\n",
              "      --disabled-bg-color: #DDD;\n",
              "  }\n",
              "\n",
              "  [theme=dark] .colab-df-quickchart {\n",
              "      --bg-color: #3B4455;\n",
              "      --fill-color: #D2E3FC;\n",
              "      --hover-bg-color: #434B5C;\n",
              "      --hover-fill-color: #FFFFFF;\n",
              "      --disabled-bg-color: #3B4455;\n",
              "      --disabled-fill-color: #666;\n",
              "  }\n",
              "\n",
              "  .colab-df-quickchart {\n",
              "    background-color: var(--bg-color);\n",
              "    border: none;\n",
              "    border-radius: 50%;\n",
              "    cursor: pointer;\n",
              "    display: none;\n",
              "    fill: var(--fill-color);\n",
              "    height: 32px;\n",
              "    padding: 0;\n",
              "    width: 32px;\n",
              "  }\n",
              "\n",
              "  .colab-df-quickchart:hover {\n",
              "    background-color: var(--hover-bg-color);\n",
              "    box-shadow: 0 1px 2px rgba(60, 64, 67, 0.3), 0 1px 3px 1px rgba(60, 64, 67, 0.15);\n",
              "    fill: var(--button-hover-fill-color);\n",
              "  }\n",
              "\n",
              "  .colab-df-quickchart-complete:disabled,\n",
              "  .colab-df-quickchart-complete:disabled:hover {\n",
              "    background-color: var(--disabled-bg-color);\n",
              "    fill: var(--disabled-fill-color);\n",
              "    box-shadow: none;\n",
              "  }\n",
              "\n",
              "  .colab-df-spinner {\n",
              "    border: 2px solid var(--fill-color);\n",
              "    border-color: transparent;\n",
              "    border-bottom-color: var(--fill-color);\n",
              "    animation:\n",
              "      spin 1s steps(1) infinite;\n",
              "  }\n",
              "\n",
              "  @keyframes spin {\n",
              "    0% {\n",
              "      border-color: transparent;\n",
              "      border-bottom-color: var(--fill-color);\n",
              "      border-left-color: var(--fill-color);\n",
              "    }\n",
              "    20% {\n",
              "      border-color: transparent;\n",
              "      border-left-color: var(--fill-color);\n",
              "      border-top-color: var(--fill-color);\n",
              "    }\n",
              "    30% {\n",
              "      border-color: transparent;\n",
              "      border-left-color: var(--fill-color);\n",
              "      border-top-color: var(--fill-color);\n",
              "      border-right-color: var(--fill-color);\n",
              "    }\n",
              "    40% {\n",
              "      border-color: transparent;\n",
              "      border-right-color: var(--fill-color);\n",
              "      border-top-color: var(--fill-color);\n",
              "    }\n",
              "    60% {\n",
              "      border-color: transparent;\n",
              "      border-right-color: var(--fill-color);\n",
              "    }\n",
              "    80% {\n",
              "      border-color: transparent;\n",
              "      border-right-color: var(--fill-color);\n",
              "      border-bottom-color: var(--fill-color);\n",
              "    }\n",
              "    90% {\n",
              "      border-color: transparent;\n",
              "      border-bottom-color: var(--fill-color);\n",
              "    }\n",
              "  }\n",
              "</style>\n",
              "\n",
              "  <script>\n",
              "    async function quickchart(key) {\n",
              "      const quickchartButtonEl =\n",
              "        document.querySelector('#' + key + ' button');\n",
              "      quickchartButtonEl.disabled = true;  // To prevent multiple clicks.\n",
              "      quickchartButtonEl.classList.add('colab-df-spinner');\n",
              "      try {\n",
              "        const charts = await google.colab.kernel.invokeFunction(\n",
              "            'suggestCharts', [key], {});\n",
              "      } catch (error) {\n",
              "        console.error('Error during call to suggestCharts:', error);\n",
              "      }\n",
              "      quickchartButtonEl.classList.remove('colab-df-spinner');\n",
              "      quickchartButtonEl.classList.add('colab-df-quickchart-complete');\n",
              "    }\n",
              "    (() => {\n",
              "      let quickchartButtonEl =\n",
              "        document.querySelector('#df-54e30344-4d02-4e03-b7f0-d548eca7a97c button');\n",
              "      quickchartButtonEl.style.display =\n",
              "        google.colab.kernel.accessAllowed ? 'block' : 'none';\n",
              "    })();\n",
              "  </script>\n",
              "</div>\n",
              "    </div>\n",
              "  </div>\n"
            ]
          },
          "metadata": {},
          "execution_count": 58
        }
      ],
      "source": [
        "df.head()"
      ]
    },
    {
      "cell_type": "markdown",
      "id": "38ee0364",
      "metadata": {
        "id": "38ee0364",
        "papermill": {
          "duration": 0.020377,
          "end_time": "2023-09-05T21:10:04.554528",
          "exception": false,
          "start_time": "2023-09-05T21:10:04.534151",
          "status": "completed"
        },
        "tags": []
      },
      "source": [
        "As all columns are PCA tranformed, the data is scaled and has a gaussian distribution. Hence not much of data cleaning is to be performed"
      ]
    },
    {
      "cell_type": "markdown",
      "id": "33bb9fb1",
      "metadata": {
        "id": "33bb9fb1",
        "papermill": {
          "duration": 0.01986,
          "end_time": "2023-09-05T21:10:04.594432",
          "exception": false,
          "start_time": "2023-09-05T21:10:04.574572",
          "status": "completed"
        },
        "tags": []
      },
      "source": [
        "# Exploratory Data Analysis"
      ]
    },
    {
      "cell_type": "code",
      "execution_count": 59,
      "id": "0af56edd",
      "metadata": {
        "execution": {
          "iopub.execute_input": "2023-09-05T21:10:04.635838Z",
          "iopub.status.busy": "2023-09-05T21:10:04.635565Z",
          "iopub.status.idle": "2023-09-05T21:10:05.073028Z",
          "shell.execute_reply": "2023-09-05T21:10:05.071869Z"
        },
        "id": "0af56edd",
        "outputId": "452e5ffb-4038-44c5-e2a0-b28131d16c9c",
        "papermill": {
          "duration": 0.460824,
          "end_time": "2023-09-05T21:10:05.075486",
          "exception": false,
          "start_time": "2023-09-05T21:10:04.614662",
          "status": "completed"
        },
        "tags": [],
        "colab": {
          "base_uri": "https://localhost:8080/",
          "height": 349
        }
      },
      "outputs": [
        {
          "output_type": "execute_result",
          "data": {
            "text/plain": [
              "                Time            V1            V2            V3            V4  \\\n",
              "count  284807.000000  2.848070e+05  2.848070e+05  2.848070e+05  2.848070e+05   \n",
              "mean    94813.859575  1.168375e-15  3.416908e-16 -1.379537e-15  2.074095e-15   \n",
              "std     47488.145955  1.958696e+00  1.651309e+00  1.516255e+00  1.415869e+00   \n",
              "min         0.000000 -5.640751e+01 -7.271573e+01 -4.832559e+01 -5.683171e+00   \n",
              "25%     54201.500000 -9.203734e-01 -5.985499e-01 -8.903648e-01 -8.486401e-01   \n",
              "50%     84692.000000  1.810880e-02  6.548556e-02  1.798463e-01 -1.984653e-02   \n",
              "75%    139320.500000  1.315642e+00  8.037239e-01  1.027196e+00  7.433413e-01   \n",
              "max    172792.000000  2.454930e+00  2.205773e+01  9.382558e+00  1.687534e+01   \n",
              "\n",
              "                 V5            V6            V7            V8            V9  \\\n",
              "count  2.848070e+05  2.848070e+05  2.848070e+05  2.848070e+05  2.848070e+05   \n",
              "mean   9.604066e-16  1.487313e-15 -5.556467e-16  1.213481e-16 -2.406331e-15   \n",
              "std    1.380247e+00  1.332271e+00  1.237094e+00  1.194353e+00  1.098632e+00   \n",
              "min   -1.137433e+02 -2.616051e+01 -4.355724e+01 -7.321672e+01 -1.343407e+01   \n",
              "25%   -6.915971e-01 -7.682956e-01 -5.540759e-01 -2.086297e-01 -6.430976e-01   \n",
              "50%   -5.433583e-02 -2.741871e-01  4.010308e-02  2.235804e-02 -5.142873e-02   \n",
              "75%    6.119264e-01  3.985649e-01  5.704361e-01  3.273459e-01  5.971390e-01   \n",
              "max    3.480167e+01  7.330163e+01  1.205895e+02  2.000721e+01  1.559499e+01   \n",
              "\n",
              "       ...           V21           V22           V23           V24  \\\n",
              "count  ...  2.848070e+05  2.848070e+05  2.848070e+05  2.848070e+05   \n",
              "mean   ...  1.654067e-16 -3.568593e-16  2.578648e-16  4.473266e-15   \n",
              "std    ...  7.345240e-01  7.257016e-01  6.244603e-01  6.056471e-01   \n",
              "min    ... -3.483038e+01 -1.093314e+01 -4.480774e+01 -2.836627e+00   \n",
              "25%    ... -2.283949e-01 -5.423504e-01 -1.618463e-01 -3.545861e-01   \n",
              "50%    ... -2.945017e-02  6.781943e-03 -1.119293e-02  4.097606e-02   \n",
              "75%    ...  1.863772e-01  5.285536e-01  1.476421e-01  4.395266e-01   \n",
              "max    ...  2.720284e+01  1.050309e+01  2.252841e+01  4.584549e+00   \n",
              "\n",
              "                V25           V26           V27           V28         Amount  \\\n",
              "count  2.848070e+05  2.848070e+05  2.848070e+05  2.848070e+05  284807.000000   \n",
              "mean   5.340915e-16  1.683437e-15 -3.660091e-16 -1.227390e-16      88.349619   \n",
              "std    5.212781e-01  4.822270e-01  4.036325e-01  3.300833e-01     250.120109   \n",
              "min   -1.029540e+01 -2.604551e+00 -2.256568e+01 -1.543008e+01       0.000000   \n",
              "25%   -3.171451e-01 -3.269839e-01 -7.083953e-02 -5.295979e-02       5.600000   \n",
              "50%    1.659350e-02 -5.213911e-02  1.342146e-03  1.124383e-02      22.000000   \n",
              "75%    3.507156e-01  2.409522e-01  9.104512e-02  7.827995e-02      77.165000   \n",
              "max    7.519589e+00  3.517346e+00  3.161220e+01  3.384781e+01   25691.160000   \n",
              "\n",
              "               Class  \n",
              "count  284807.000000  \n",
              "mean        0.001727  \n",
              "std         0.041527  \n",
              "min         0.000000  \n",
              "25%         0.000000  \n",
              "50%         0.000000  \n",
              "75%         0.000000  \n",
              "max         1.000000  \n",
              "\n",
              "[8 rows x 31 columns]"
            ],
            "text/html": [
              "\n",
              "  <div id=\"df-4a93b874-baf5-46a3-9207-81a36c45db86\" class=\"colab-df-container\">\n",
              "    <div>\n",
              "<style scoped>\n",
              "    .dataframe tbody tr th:only-of-type {\n",
              "        vertical-align: middle;\n",
              "    }\n",
              "\n",
              "    .dataframe tbody tr th {\n",
              "        vertical-align: top;\n",
              "    }\n",
              "\n",
              "    .dataframe thead th {\n",
              "        text-align: right;\n",
              "    }\n",
              "</style>\n",
              "<table border=\"1\" class=\"dataframe\">\n",
              "  <thead>\n",
              "    <tr style=\"text-align: right;\">\n",
              "      <th></th>\n",
              "      <th>Time</th>\n",
              "      <th>V1</th>\n",
              "      <th>V2</th>\n",
              "      <th>V3</th>\n",
              "      <th>V4</th>\n",
              "      <th>V5</th>\n",
              "      <th>V6</th>\n",
              "      <th>V7</th>\n",
              "      <th>V8</th>\n",
              "      <th>V9</th>\n",
              "      <th>...</th>\n",
              "      <th>V21</th>\n",
              "      <th>V22</th>\n",
              "      <th>V23</th>\n",
              "      <th>V24</th>\n",
              "      <th>V25</th>\n",
              "      <th>V26</th>\n",
              "      <th>V27</th>\n",
              "      <th>V28</th>\n",
              "      <th>Amount</th>\n",
              "      <th>Class</th>\n",
              "    </tr>\n",
              "  </thead>\n",
              "  <tbody>\n",
              "    <tr>\n",
              "      <th>count</th>\n",
              "      <td>284807.000000</td>\n",
              "      <td>2.848070e+05</td>\n",
              "      <td>2.848070e+05</td>\n",
              "      <td>2.848070e+05</td>\n",
              "      <td>2.848070e+05</td>\n",
              "      <td>2.848070e+05</td>\n",
              "      <td>2.848070e+05</td>\n",
              "      <td>2.848070e+05</td>\n",
              "      <td>2.848070e+05</td>\n",
              "      <td>2.848070e+05</td>\n",
              "      <td>...</td>\n",
              "      <td>2.848070e+05</td>\n",
              "      <td>2.848070e+05</td>\n",
              "      <td>2.848070e+05</td>\n",
              "      <td>2.848070e+05</td>\n",
              "      <td>2.848070e+05</td>\n",
              "      <td>2.848070e+05</td>\n",
              "      <td>2.848070e+05</td>\n",
              "      <td>2.848070e+05</td>\n",
              "      <td>284807.000000</td>\n",
              "      <td>284807.000000</td>\n",
              "    </tr>\n",
              "    <tr>\n",
              "      <th>mean</th>\n",
              "      <td>94813.859575</td>\n",
              "      <td>1.168375e-15</td>\n",
              "      <td>3.416908e-16</td>\n",
              "      <td>-1.379537e-15</td>\n",
              "      <td>2.074095e-15</td>\n",
              "      <td>9.604066e-16</td>\n",
              "      <td>1.487313e-15</td>\n",
              "      <td>-5.556467e-16</td>\n",
              "      <td>1.213481e-16</td>\n",
              "      <td>-2.406331e-15</td>\n",
              "      <td>...</td>\n",
              "      <td>1.654067e-16</td>\n",
              "      <td>-3.568593e-16</td>\n",
              "      <td>2.578648e-16</td>\n",
              "      <td>4.473266e-15</td>\n",
              "      <td>5.340915e-16</td>\n",
              "      <td>1.683437e-15</td>\n",
              "      <td>-3.660091e-16</td>\n",
              "      <td>-1.227390e-16</td>\n",
              "      <td>88.349619</td>\n",
              "      <td>0.001727</td>\n",
              "    </tr>\n",
              "    <tr>\n",
              "      <th>std</th>\n",
              "      <td>47488.145955</td>\n",
              "      <td>1.958696e+00</td>\n",
              "      <td>1.651309e+00</td>\n",
              "      <td>1.516255e+00</td>\n",
              "      <td>1.415869e+00</td>\n",
              "      <td>1.380247e+00</td>\n",
              "      <td>1.332271e+00</td>\n",
              "      <td>1.237094e+00</td>\n",
              "      <td>1.194353e+00</td>\n",
              "      <td>1.098632e+00</td>\n",
              "      <td>...</td>\n",
              "      <td>7.345240e-01</td>\n",
              "      <td>7.257016e-01</td>\n",
              "      <td>6.244603e-01</td>\n",
              "      <td>6.056471e-01</td>\n",
              "      <td>5.212781e-01</td>\n",
              "      <td>4.822270e-01</td>\n",
              "      <td>4.036325e-01</td>\n",
              "      <td>3.300833e-01</td>\n",
              "      <td>250.120109</td>\n",
              "      <td>0.041527</td>\n",
              "    </tr>\n",
              "    <tr>\n",
              "      <th>min</th>\n",
              "      <td>0.000000</td>\n",
              "      <td>-5.640751e+01</td>\n",
              "      <td>-7.271573e+01</td>\n",
              "      <td>-4.832559e+01</td>\n",
              "      <td>-5.683171e+00</td>\n",
              "      <td>-1.137433e+02</td>\n",
              "      <td>-2.616051e+01</td>\n",
              "      <td>-4.355724e+01</td>\n",
              "      <td>-7.321672e+01</td>\n",
              "      <td>-1.343407e+01</td>\n",
              "      <td>...</td>\n",
              "      <td>-3.483038e+01</td>\n",
              "      <td>-1.093314e+01</td>\n",
              "      <td>-4.480774e+01</td>\n",
              "      <td>-2.836627e+00</td>\n",
              "      <td>-1.029540e+01</td>\n",
              "      <td>-2.604551e+00</td>\n",
              "      <td>-2.256568e+01</td>\n",
              "      <td>-1.543008e+01</td>\n",
              "      <td>0.000000</td>\n",
              "      <td>0.000000</td>\n",
              "    </tr>\n",
              "    <tr>\n",
              "      <th>25%</th>\n",
              "      <td>54201.500000</td>\n",
              "      <td>-9.203734e-01</td>\n",
              "      <td>-5.985499e-01</td>\n",
              "      <td>-8.903648e-01</td>\n",
              "      <td>-8.486401e-01</td>\n",
              "      <td>-6.915971e-01</td>\n",
              "      <td>-7.682956e-01</td>\n",
              "      <td>-5.540759e-01</td>\n",
              "      <td>-2.086297e-01</td>\n",
              "      <td>-6.430976e-01</td>\n",
              "      <td>...</td>\n",
              "      <td>-2.283949e-01</td>\n",
              "      <td>-5.423504e-01</td>\n",
              "      <td>-1.618463e-01</td>\n",
              "      <td>-3.545861e-01</td>\n",
              "      <td>-3.171451e-01</td>\n",
              "      <td>-3.269839e-01</td>\n",
              "      <td>-7.083953e-02</td>\n",
              "      <td>-5.295979e-02</td>\n",
              "      <td>5.600000</td>\n",
              "      <td>0.000000</td>\n",
              "    </tr>\n",
              "    <tr>\n",
              "      <th>50%</th>\n",
              "      <td>84692.000000</td>\n",
              "      <td>1.810880e-02</td>\n",
              "      <td>6.548556e-02</td>\n",
              "      <td>1.798463e-01</td>\n",
              "      <td>-1.984653e-02</td>\n",
              "      <td>-5.433583e-02</td>\n",
              "      <td>-2.741871e-01</td>\n",
              "      <td>4.010308e-02</td>\n",
              "      <td>2.235804e-02</td>\n",
              "      <td>-5.142873e-02</td>\n",
              "      <td>...</td>\n",
              "      <td>-2.945017e-02</td>\n",
              "      <td>6.781943e-03</td>\n",
              "      <td>-1.119293e-02</td>\n",
              "      <td>4.097606e-02</td>\n",
              "      <td>1.659350e-02</td>\n",
              "      <td>-5.213911e-02</td>\n",
              "      <td>1.342146e-03</td>\n",
              "      <td>1.124383e-02</td>\n",
              "      <td>22.000000</td>\n",
              "      <td>0.000000</td>\n",
              "    </tr>\n",
              "    <tr>\n",
              "      <th>75%</th>\n",
              "      <td>139320.500000</td>\n",
              "      <td>1.315642e+00</td>\n",
              "      <td>8.037239e-01</td>\n",
              "      <td>1.027196e+00</td>\n",
              "      <td>7.433413e-01</td>\n",
              "      <td>6.119264e-01</td>\n",
              "      <td>3.985649e-01</td>\n",
              "      <td>5.704361e-01</td>\n",
              "      <td>3.273459e-01</td>\n",
              "      <td>5.971390e-01</td>\n",
              "      <td>...</td>\n",
              "      <td>1.863772e-01</td>\n",
              "      <td>5.285536e-01</td>\n",
              "      <td>1.476421e-01</td>\n",
              "      <td>4.395266e-01</td>\n",
              "      <td>3.507156e-01</td>\n",
              "      <td>2.409522e-01</td>\n",
              "      <td>9.104512e-02</td>\n",
              "      <td>7.827995e-02</td>\n",
              "      <td>77.165000</td>\n",
              "      <td>0.000000</td>\n",
              "    </tr>\n",
              "    <tr>\n",
              "      <th>max</th>\n",
              "      <td>172792.000000</td>\n",
              "      <td>2.454930e+00</td>\n",
              "      <td>2.205773e+01</td>\n",
              "      <td>9.382558e+00</td>\n",
              "      <td>1.687534e+01</td>\n",
              "      <td>3.480167e+01</td>\n",
              "      <td>7.330163e+01</td>\n",
              "      <td>1.205895e+02</td>\n",
              "      <td>2.000721e+01</td>\n",
              "      <td>1.559499e+01</td>\n",
              "      <td>...</td>\n",
              "      <td>2.720284e+01</td>\n",
              "      <td>1.050309e+01</td>\n",
              "      <td>2.252841e+01</td>\n",
              "      <td>4.584549e+00</td>\n",
              "      <td>7.519589e+00</td>\n",
              "      <td>3.517346e+00</td>\n",
              "      <td>3.161220e+01</td>\n",
              "      <td>3.384781e+01</td>\n",
              "      <td>25691.160000</td>\n",
              "      <td>1.000000</td>\n",
              "    </tr>\n",
              "  </tbody>\n",
              "</table>\n",
              "<p>8 rows × 31 columns</p>\n",
              "</div>\n",
              "    <div class=\"colab-df-buttons\">\n",
              "\n",
              "  <div class=\"colab-df-container\">\n",
              "    <button class=\"colab-df-convert\" onclick=\"convertToInteractive('df-4a93b874-baf5-46a3-9207-81a36c45db86')\"\n",
              "            title=\"Convert this dataframe to an interactive table.\"\n",
              "            style=\"display:none;\">\n",
              "\n",
              "  <svg xmlns=\"http://www.w3.org/2000/svg\" height=\"24px\" viewBox=\"0 -960 960 960\">\n",
              "    <path d=\"M120-120v-720h720v720H120Zm60-500h600v-160H180v160Zm220 220h160v-160H400v160Zm0 220h160v-160H400v160ZM180-400h160v-160H180v160Zm440 0h160v-160H620v160ZM180-180h160v-160H180v160Zm440 0h160v-160H620v160Z\"/>\n",
              "  </svg>\n",
              "    </button>\n",
              "\n",
              "  <style>\n",
              "    .colab-df-container {\n",
              "      display:flex;\n",
              "      gap: 12px;\n",
              "    }\n",
              "\n",
              "    .colab-df-convert {\n",
              "      background-color: #E8F0FE;\n",
              "      border: none;\n",
              "      border-radius: 50%;\n",
              "      cursor: pointer;\n",
              "      display: none;\n",
              "      fill: #1967D2;\n",
              "      height: 32px;\n",
              "      padding: 0 0 0 0;\n",
              "      width: 32px;\n",
              "    }\n",
              "\n",
              "    .colab-df-convert:hover {\n",
              "      background-color: #E2EBFA;\n",
              "      box-shadow: 0px 1px 2px rgba(60, 64, 67, 0.3), 0px 1px 3px 1px rgba(60, 64, 67, 0.15);\n",
              "      fill: #174EA6;\n",
              "    }\n",
              "\n",
              "    .colab-df-buttons div {\n",
              "      margin-bottom: 4px;\n",
              "    }\n",
              "\n",
              "    [theme=dark] .colab-df-convert {\n",
              "      background-color: #3B4455;\n",
              "      fill: #D2E3FC;\n",
              "    }\n",
              "\n",
              "    [theme=dark] .colab-df-convert:hover {\n",
              "      background-color: #434B5C;\n",
              "      box-shadow: 0px 1px 3px 1px rgba(0, 0, 0, 0.15);\n",
              "      filter: drop-shadow(0px 1px 2px rgba(0, 0, 0, 0.3));\n",
              "      fill: #FFFFFF;\n",
              "    }\n",
              "  </style>\n",
              "\n",
              "    <script>\n",
              "      const buttonEl =\n",
              "        document.querySelector('#df-4a93b874-baf5-46a3-9207-81a36c45db86 button.colab-df-convert');\n",
              "      buttonEl.style.display =\n",
              "        google.colab.kernel.accessAllowed ? 'block' : 'none';\n",
              "\n",
              "      async function convertToInteractive(key) {\n",
              "        const element = document.querySelector('#df-4a93b874-baf5-46a3-9207-81a36c45db86');\n",
              "        const dataTable =\n",
              "          await google.colab.kernel.invokeFunction('convertToInteractive',\n",
              "                                                    [key], {});\n",
              "        if (!dataTable) return;\n",
              "\n",
              "        const docLinkHtml = 'Like what you see? Visit the ' +\n",
              "          '<a target=\"_blank\" href=https://colab.research.google.com/notebooks/data_table.ipynb>data table notebook</a>'\n",
              "          + ' to learn more about interactive tables.';\n",
              "        element.innerHTML = '';\n",
              "        dataTable['output_type'] = 'display_data';\n",
              "        await google.colab.output.renderOutput(dataTable, element);\n",
              "        const docLink = document.createElement('div');\n",
              "        docLink.innerHTML = docLinkHtml;\n",
              "        element.appendChild(docLink);\n",
              "      }\n",
              "    </script>\n",
              "  </div>\n",
              "\n",
              "\n",
              "<div id=\"df-f0e24907-3287-41f8-9f8f-90cfb653ac81\">\n",
              "  <button class=\"colab-df-quickchart\" onclick=\"quickchart('df-f0e24907-3287-41f8-9f8f-90cfb653ac81')\"\n",
              "            title=\"Suggest charts.\"\n",
              "            style=\"display:none;\">\n",
              "\n",
              "<svg xmlns=\"http://www.w3.org/2000/svg\" height=\"24px\"viewBox=\"0 0 24 24\"\n",
              "     width=\"24px\">\n",
              "    <g>\n",
              "        <path d=\"M19 3H5c-1.1 0-2 .9-2 2v14c0 1.1.9 2 2 2h14c1.1 0 2-.9 2-2V5c0-1.1-.9-2-2-2zM9 17H7v-7h2v7zm4 0h-2V7h2v10zm4 0h-2v-4h2v4z\"/>\n",
              "    </g>\n",
              "</svg>\n",
              "  </button>\n",
              "\n",
              "<style>\n",
              "  .colab-df-quickchart {\n",
              "      --bg-color: #E8F0FE;\n",
              "      --fill-color: #1967D2;\n",
              "      --hover-bg-color: #E2EBFA;\n",
              "      --hover-fill-color: #174EA6;\n",
              "      --disabled-fill-color: #AAA;\n",
              "      --disabled-bg-color: #DDD;\n",
              "  }\n",
              "\n",
              "  [theme=dark] .colab-df-quickchart {\n",
              "      --bg-color: #3B4455;\n",
              "      --fill-color: #D2E3FC;\n",
              "      --hover-bg-color: #434B5C;\n",
              "      --hover-fill-color: #FFFFFF;\n",
              "      --disabled-bg-color: #3B4455;\n",
              "      --disabled-fill-color: #666;\n",
              "  }\n",
              "\n",
              "  .colab-df-quickchart {\n",
              "    background-color: var(--bg-color);\n",
              "    border: none;\n",
              "    border-radius: 50%;\n",
              "    cursor: pointer;\n",
              "    display: none;\n",
              "    fill: var(--fill-color);\n",
              "    height: 32px;\n",
              "    padding: 0;\n",
              "    width: 32px;\n",
              "  }\n",
              "\n",
              "  .colab-df-quickchart:hover {\n",
              "    background-color: var(--hover-bg-color);\n",
              "    box-shadow: 0 1px 2px rgba(60, 64, 67, 0.3), 0 1px 3px 1px rgba(60, 64, 67, 0.15);\n",
              "    fill: var(--button-hover-fill-color);\n",
              "  }\n",
              "\n",
              "  .colab-df-quickchart-complete:disabled,\n",
              "  .colab-df-quickchart-complete:disabled:hover {\n",
              "    background-color: var(--disabled-bg-color);\n",
              "    fill: var(--disabled-fill-color);\n",
              "    box-shadow: none;\n",
              "  }\n",
              "\n",
              "  .colab-df-spinner {\n",
              "    border: 2px solid var(--fill-color);\n",
              "    border-color: transparent;\n",
              "    border-bottom-color: var(--fill-color);\n",
              "    animation:\n",
              "      spin 1s steps(1) infinite;\n",
              "  }\n",
              "\n",
              "  @keyframes spin {\n",
              "    0% {\n",
              "      border-color: transparent;\n",
              "      border-bottom-color: var(--fill-color);\n",
              "      border-left-color: var(--fill-color);\n",
              "    }\n",
              "    20% {\n",
              "      border-color: transparent;\n",
              "      border-left-color: var(--fill-color);\n",
              "      border-top-color: var(--fill-color);\n",
              "    }\n",
              "    30% {\n",
              "      border-color: transparent;\n",
              "      border-left-color: var(--fill-color);\n",
              "      border-top-color: var(--fill-color);\n",
              "      border-right-color: var(--fill-color);\n",
              "    }\n",
              "    40% {\n",
              "      border-color: transparent;\n",
              "      border-right-color: var(--fill-color);\n",
              "      border-top-color: var(--fill-color);\n",
              "    }\n",
              "    60% {\n",
              "      border-color: transparent;\n",
              "      border-right-color: var(--fill-color);\n",
              "    }\n",
              "    80% {\n",
              "      border-color: transparent;\n",
              "      border-right-color: var(--fill-color);\n",
              "      border-bottom-color: var(--fill-color);\n",
              "    }\n",
              "    90% {\n",
              "      border-color: transparent;\n",
              "      border-bottom-color: var(--fill-color);\n",
              "    }\n",
              "  }\n",
              "</style>\n",
              "\n",
              "  <script>\n",
              "    async function quickchart(key) {\n",
              "      const quickchartButtonEl =\n",
              "        document.querySelector('#' + key + ' button');\n",
              "      quickchartButtonEl.disabled = true;  // To prevent multiple clicks.\n",
              "      quickchartButtonEl.classList.add('colab-df-spinner');\n",
              "      try {\n",
              "        const charts = await google.colab.kernel.invokeFunction(\n",
              "            'suggestCharts', [key], {});\n",
              "      } catch (error) {\n",
              "        console.error('Error during call to suggestCharts:', error);\n",
              "      }\n",
              "      quickchartButtonEl.classList.remove('colab-df-spinner');\n",
              "      quickchartButtonEl.classList.add('colab-df-quickchart-complete');\n",
              "    }\n",
              "    (() => {\n",
              "      let quickchartButtonEl =\n",
              "        document.querySelector('#df-f0e24907-3287-41f8-9f8f-90cfb653ac81 button');\n",
              "      quickchartButtonEl.style.display =\n",
              "        google.colab.kernel.accessAllowed ? 'block' : 'none';\n",
              "    })();\n",
              "  </script>\n",
              "</div>\n",
              "    </div>\n",
              "  </div>\n"
            ]
          },
          "metadata": {},
          "execution_count": 59
        }
      ],
      "source": [
        "df.describe()"
      ]
    },
    {
      "cell_type": "markdown",
      "id": "9788ae70",
      "metadata": {
        "id": "9788ae70",
        "papermill": {
          "duration": 0.021061,
          "end_time": "2023-09-05T21:10:05.156173",
          "exception": false,
          "start_time": "2023-09-05T21:10:05.135112",
          "status": "completed"
        },
        "tags": []
      },
      "source": [
        "Since the variables are PCA tranformed. The variables are not interpretable, except for Amount and Time"
      ]
    },
    {
      "cell_type": "code",
      "execution_count": 60,
      "id": "72d39e33",
      "metadata": {
        "execution": {
          "iopub.execute_input": "2023-09-05T21:10:05.199199Z",
          "iopub.status.busy": "2023-09-05T21:10:05.198268Z",
          "iopub.status.idle": "2023-09-05T21:10:05.216993Z",
          "shell.execute_reply": "2023-09-05T21:10:05.215965Z"
        },
        "id": "72d39e33",
        "outputId": "240cc7d1-0d3b-41ec-aa3a-3d08ad673b23",
        "papermill": {
          "duration": 0.0424,
          "end_time": "2023-09-05T21:10:05.219053",
          "exception": false,
          "start_time": "2023-09-05T21:10:05.176653",
          "status": "completed"
        },
        "tags": [],
        "colab": {
          "base_uri": "https://localhost:8080/"
        }
      },
      "outputs": [
        {
          "output_type": "execute_result",
          "data": {
            "text/plain": [
              "Time      0\n",
              "V1        0\n",
              "V2        0\n",
              "V3        0\n",
              "V4        0\n",
              "V5        0\n",
              "V6        0\n",
              "V7        0\n",
              "V8        0\n",
              "V9        0\n",
              "V10       0\n",
              "V11       0\n",
              "V12       0\n",
              "V13       0\n",
              "V14       0\n",
              "V15       0\n",
              "V16       0\n",
              "V17       0\n",
              "V18       0\n",
              "V19       0\n",
              "V20       0\n",
              "V21       0\n",
              "V22       0\n",
              "V23       0\n",
              "V24       0\n",
              "V25       0\n",
              "V26       0\n",
              "V27       0\n",
              "V28       0\n",
              "Amount    0\n",
              "Class     0\n",
              "dtype: int64"
            ]
          },
          "metadata": {},
          "execution_count": 60
        }
      ],
      "source": [
        "# Counting number of null values in each column\n",
        "df.isna().sum()"
      ]
    },
    {
      "cell_type": "markdown",
      "id": "0ead5d74",
      "metadata": {
        "id": "0ead5d74",
        "papermill": {
          "duration": 0.020554,
          "end_time": "2023-09-05T21:10:05.260277",
          "exception": false,
          "start_time": "2023-09-05T21:10:05.239723",
          "status": "completed"
        },
        "tags": []
      },
      "source": [
        "###It can be seen that there are no null values. Thus no need to impute any missing values"
      ]
    },
    {
      "cell_type": "code",
      "execution_count": 61,
      "id": "fd5d3bc7",
      "metadata": {
        "execution": {
          "iopub.execute_input": "2023-09-05T21:10:05.302645Z",
          "iopub.status.busy": "2023-09-05T21:10:05.302350Z",
          "iopub.status.idle": "2023-09-05T21:10:05.310987Z",
          "shell.execute_reply": "2023-09-05T21:10:05.309986Z"
        },
        "id": "fd5d3bc7",
        "outputId": "9cc59628-b9b0-4c5d-f1b2-e107a80ee446",
        "papermill": {
          "duration": 0.032224,
          "end_time": "2023-09-05T21:10:05.313154",
          "exception": false,
          "start_time": "2023-09-05T21:10:05.280930",
          "status": "completed"
        },
        "tags": [],
        "colab": {
          "base_uri": "https://localhost:8080/"
        }
      },
      "outputs": [
        {
          "output_type": "execute_result",
          "data": {
            "text/plain": [
              "0.1727485630620034"
            ]
          },
          "metadata": {},
          "execution_count": 61
        }
      ],
      "source": [
        "# Determining Percentage of fradulaent Transactions\n",
        "df[df.Class==1].Class.sum()/df.Class.count()*100"
      ]
    },
    {
      "cell_type": "code",
      "execution_count": 62,
      "id": "0caa5278",
      "metadata": {
        "execution": {
          "iopub.execute_input": "2023-09-05T21:10:05.358487Z",
          "iopub.status.busy": "2023-09-05T21:10:05.358229Z",
          "iopub.status.idle": "2023-09-05T21:10:05.655654Z",
          "shell.execute_reply": "2023-09-05T21:10:05.654799Z"
        },
        "id": "0caa5278",
        "outputId": "8cf2c8f8-0831-4e92-bb29-fdbe14acb4ce",
        "papermill": {
          "duration": 0.323838,
          "end_time": "2023-09-05T21:10:05.657718",
          "exception": false,
          "start_time": "2023-09-05T21:10:05.333880",
          "status": "completed"
        },
        "tags": [],
        "colab": {
          "base_uri": "https://localhost:8080/",
          "height": 685
        }
      },
      "outputs": [
        {
          "output_type": "display_data",
          "data": {
            "text/plain": [
              "<Figure size 800x600 with 1 Axes>"
            ],
            "image/png": "[encoded data removed]"
          },
          "metadata": {}
        },
        {
          "output_type": "stream",
          "name": "stdout",
          "text": [
            "Fraudulent Transactions:\n",
            "Count: 492\n",
            "Percentage: 0.17%\n",
            "\n",
            "Non-Fraudulent Transactions:\n",
            "Count: 284315\n",
            "Percentage: 99.83%\n"
          ]
        }
      ],
      "source": [
        "# Create a bar plot for the number and percentage of fraudulent vs non-fraudulent transcations\n",
        "# Count the number of fraudulent and non-fraudulent transactions\n",
        "fraud_counts = df['Class'].value_counts()\n",
        "\n",
        "# Calculate the percentage of fraudulent and non-fraudulent transactions\n",
        "fraud_percentage = fraud_counts / len(df) * 100\n",
        "\n",
        "# Create a bar plot\n",
        "plt.figure(figsize=(8, 6))\n",
        "fraud_counts.plot(kind='bar', color=['blue', 'red'])\n",
        "plt.title('Number of Fraudulent vs Non-Fraudulent Transactions')\n",
        "plt.xlabel('Class')\n",
        "plt.ylabel('Number of Transactions')\n",
        "plt.xticks([0, 1], labels=['Non-Fraudulent', 'Fraudulent'], rotation=0)\n",
        "plt.show()\n",
        "\n",
        "# Print the counts and percentages\n",
        "print(\"Fraudulent Transactions:\")\n",
        "print(f\"Count: {fraud_counts[1]}\")\n",
        "print(f\"Percentage: {fraud_percentage[1]:.2f}%\")\n",
        "\n",
        "print(\"\\nNon-Fraudulent Transactions:\")\n",
        "print(f\"Count: {fraud_counts[0]}\")\n",
        "print(f\"Percentage: {fraud_percentage[0]:.2f}%\")"
      ]
    },
    {
      "cell_type": "markdown",
      "id": "29bab116",
      "metadata": {
        "id": "29bab116",
        "papermill": {
          "duration": 0.021427,
          "end_time": "2023-09-05T21:10:05.700876",
          "exception": false,
          "start_time": "2023-09-05T21:10:05.679449",
          "status": "completed"
        },
        "tags": []
      },
      "source": [
        "##Thus, it can be seen that only 0.173% of the transactions are actually fradulent.\n",
        "####Hence, the dataset will require sampling technique to balance the training dataset"
      ]
    },
    {
      "cell_type": "code",
      "execution_count": 63,
      "id": "063d9ef7",
      "metadata": {
        "execution": {
          "iopub.execute_input": "2023-09-05T21:10:05.745129Z",
          "iopub.status.busy": "2023-09-05T21:10:05.744391Z",
          "iopub.status.idle": "2023-09-05T21:10:06.091694Z",
          "shell.execute_reply": "2023-09-05T21:10:06.090777Z"
        },
        "id": "063d9ef7",
        "outputId": "89817515-90ed-4499-e1ab-4da95e98eac9",
        "papermill": {
          "duration": 0.371336,
          "end_time": "2023-09-05T21:10:06.093702",
          "exception": false,
          "start_time": "2023-09-05T21:10:05.722366",
          "status": "completed"
        },
        "tags": [],
        "colab": {
          "base_uri": "https://localhost:8080/",
          "height": 466
        }
      },
      "outputs": [
        {
          "output_type": "execute_result",
          "data": {
            "text/plain": [
              "<Axes: xlabel='Class', ylabel='Amount'>"
            ]
          },
          "metadata": {},
          "execution_count": 63
        },
        {
          "output_type": "display_data",
          "data": {
            "text/plain": [
              "<Figure size 640x480 with 1 Axes>"
            ],
            "image/png": "[encoded data removed]"
          },
          "metadata": {}
        }
      ],
      "source": [
        "sns.boxplot(x=\"Class\",y=\"Amount\", data= df)"
      ]
    },
    {
      "cell_type": "markdown",
      "id": "79ab3f9d",
      "metadata": {
        "id": "79ab3f9d",
        "papermill": {
          "duration": 0.021622,
          "end_time": "2023-09-05T21:10:06.137608",
          "exception": false,
          "start_time": "2023-09-05T21:10:06.115986",
          "status": "completed"
        },
        "tags": []
      },
      "source": [
        "Interestingly, the fradulent transactions have a lesser range of amount as compared to the non-fradulent ones"
      ]
    },
    {
      "cell_type": "code",
      "execution_count": 64,
      "id": "f27a9f65",
      "metadata": {
        "execution": {
          "iopub.execute_input": "2023-09-05T21:10:06.183441Z",
          "iopub.status.busy": "2023-09-05T21:10:06.182674Z",
          "iopub.status.idle": "2023-09-05T21:10:06.496500Z",
          "shell.execute_reply": "2023-09-05T21:10:06.495592Z"
        },
        "id": "f27a9f65",
        "outputId": "948b1cba-b2da-4f1e-8f08-eeef73a08330",
        "papermill": {
          "duration": 0.338653,
          "end_time": "2023-09-05T21:10:06.498580",
          "exception": false,
          "start_time": "2023-09-05T21:10:06.159927",
          "status": "completed"
        },
        "tags": [],
        "colab": {
          "base_uri": "https://localhost:8080/",
          "height": 466
        }
      },
      "outputs": [
        {
          "output_type": "execute_result",
          "data": {
            "text/plain": [
              "<Axes: xlabel='Amount', ylabel='Count'>"
            ]
          },
          "metadata": {},
          "execution_count": 64
        },
        {
          "output_type": "display_data",
          "data": {
            "text/plain": [
              "<Figure size 640x480 with 1 Axes>"
            ],
            "image/png": "[encoded data removed]"
          },
          "metadata": {}
        }
      ],
      "source": [
        "sns.histplot(df[df.Class==1].Amount,bins=20,kde=True, color='blue')"
      ]
    },
    {
      "cell_type": "code",
      "execution_count": 65,
      "id": "72fa2975",
      "metadata": {
        "execution": {
          "iopub.execute_input": "2023-09-05T21:10:06.545748Z",
          "iopub.status.busy": "2023-09-05T21:10:06.544904Z",
          "iopub.status.idle": "2023-09-05T21:10:08.449839Z",
          "shell.execute_reply": "2023-09-05T21:10:08.448777Z"
        },
        "id": "72fa2975",
        "outputId": "a2b968d8-3cb5-4b82-f8a6-8e245f9b7560",
        "papermill": {
          "duration": 1.930591,
          "end_time": "2023-09-05T21:10:08.451948",
          "exception": false,
          "start_time": "2023-09-05T21:10:06.521357",
          "status": "completed"
        },
        "tags": [],
        "colab": {
          "base_uri": "https://localhost:8080/",
          "height": 466
        }
      },
      "outputs": [
        {
          "output_type": "execute_result",
          "data": {
            "text/plain": [
              "<Axes: xlabel='Amount', ylabel='Count'>"
            ]
          },
          "metadata": {},
          "execution_count": 65
        },
        {
          "output_type": "display_data",
          "data": {
            "text/plain": [
              "<Figure size 640x480 with 1 Axes>"
            ],
            "image/png": "[encoded data removed]"
          },
          "metadata": {}
        }
      ],
      "source": [
        "sns.histplot(df[df.Class==0].Amount,bins=200,kde=True, color='blue')"
      ]
    },
    {
      "cell_type": "code",
      "execution_count": 66,
      "id": "a1492fa6",
      "metadata": {
        "execution": {
          "iopub.execute_input": "2023-09-05T21:10:08.500771Z",
          "iopub.status.busy": "2023-09-05T21:10:08.499117Z",
          "iopub.status.idle": "2023-09-05T21:10:09.716486Z",
          "shell.execute_reply": "2023-09-05T21:10:09.715414Z"
        },
        "id": "a1492fa6",
        "outputId": "f0f61d4c-f79f-4bf3-f8d6-96ab18f42e4d",
        "papermill": {
          "duration": 1.243622,
          "end_time": "2023-09-05T21:10:09.718795",
          "exception": false,
          "start_time": "2023-09-05T21:10:08.475173",
          "status": "completed"
        },
        "tags": [],
        "colab": {
          "base_uri": "https://localhost:8080/",
          "height": 466
        }
      },
      "outputs": [
        {
          "output_type": "execute_result",
          "data": {
            "text/plain": [
              "<Axes: xlabel='Time', ylabel='Class'>"
            ]
          },
          "metadata": {},
          "execution_count": 66
        },
        {
          "output_type": "display_data",
          "data": {
            "text/plain": [
              "<Figure size 640x480 with 1 Axes>"
            ],
            "image/png": "[encoded data removed]"
          },
          "metadata": {}
        }
      ],
      "source": [
        "# Creating a scatter plot to observe the distribution of classes with time\n",
        "sns.scatterplot(y=\"Class\",x=\"Time\", data=df)"
      ]
    },
    {
      "cell_type": "code",
      "execution_count": 67,
      "id": "eb2bcc1a",
      "metadata": {
        "execution": {
          "iopub.execute_input": "2023-09-05T21:10:09.769529Z",
          "iopub.status.busy": "2023-09-05T21:10:09.769237Z",
          "iopub.status.idle": "2023-09-05T21:10:11.010518Z",
          "shell.execute_reply": "2023-09-05T21:10:11.009607Z"
        },
        "id": "eb2bcc1a",
        "outputId": "78bbf5c7-0cd0-4b37-e95d-d89354c053b0",
        "papermill": {
          "duration": 1.267582,
          "end_time": "2023-09-05T21:10:11.012577",
          "exception": false,
          "start_time": "2023-09-05T21:10:09.744995",
          "status": "completed"
        },
        "tags": [],
        "colab": {
          "base_uri": "https://localhost:8080/",
          "height": 466
        }
      },
      "outputs": [
        {
          "output_type": "execute_result",
          "data": {
            "text/plain": [
              "<Axes: xlabel='Amount', ylabel='Class'>"
            ]
          },
          "metadata": {},
          "execution_count": 67
        },
        {
          "output_type": "display_data",
          "data": {
            "text/plain": [
              "<Figure size 640x480 with 1 Axes>"
            ],
            "image/png": "[encoded data removed]"
          },
          "metadata": {}
        }
      ],
      "source": [
        "# Creating a scatter plot to observe the distribution of classes with Amount\n",
        "sns.scatterplot(x=\"Amount\",y=\"Class\",data=df)"
      ]
    },
    {
      "cell_type": "markdown",
      "id": "528dd0bd",
      "metadata": {
        "id": "528dd0bd",
        "papermill": {
          "duration": 0.023991,
          "end_time": "2023-09-05T21:10:11.060659",
          "exception": false,
          "start_time": "2023-09-05T21:10:11.036668",
          "status": "completed"
        },
        "tags": []
      },
      "source": [
        "Fraudulent transactions are actually low value transactions"
      ]
    },
    {
      "cell_type": "markdown",
      "id": "e079faf6",
      "metadata": {
        "id": "e079faf6",
        "papermill": {
          "duration": 0.023441,
          "end_time": "2023-09-05T21:10:11.107854",
          "exception": false,
          "start_time": "2023-09-05T21:10:11.084413",
          "status": "completed"
        },
        "tags": []
      },
      "source": [
        "# Modeling"
      ]
    },
    {
      "cell_type": "markdown",
      "id": "af5921da",
      "metadata": {
        "id": "af5921da",
        "papermill": {
          "duration": 0.023509,
          "end_time": "2023-09-05T21:10:11.154824",
          "exception": false,
          "start_time": "2023-09-05T21:10:11.131315",
          "status": "completed"
        },
        "tags": []
      },
      "source": [
        "#####Since the number of fraudulent samples are less, Sampling techniques need to be applied to ensure the models are rightly built"
      ]
    },
    {
      "cell_type": "markdown",
      "id": "1f11ab40",
      "metadata": {
        "id": "1f11ab40",
        "papermill": {
          "duration": 0.023621,
          "end_time": "2023-09-05T21:10:11.202023",
          "exception": false,
          "start_time": "2023-09-05T21:10:11.178402",
          "status": "completed"
        },
        "tags": []
      },
      "source": [
        "###Trying different sampling techniques"
      ]
    },
    {
      "cell_type": "code",
      "execution_count": 68,
      "id": "3d3d3d25",
      "metadata": {
        "execution": {
          "iopub.execute_input": "2023-09-05T21:10:11.250579Z",
          "iopub.status.busy": "2023-09-05T21:10:11.250252Z",
          "iopub.status.idle": "2023-09-05T21:10:11.577831Z",
          "shell.execute_reply": "2023-09-05T21:10:11.576869Z"
        },
        "id": "3d3d3d25",
        "papermill": {
          "duration": 0.354701,
          "end_time": "2023-09-05T21:10:11.580240",
          "exception": false,
          "start_time": "2023-09-05T21:10:11.225539",
          "status": "completed"
        },
        "tags": []
      },
      "outputs": [],
      "source": [
        "from sklearn.model_selection import train_test_split\n",
        "from sklearn.preprocessing import StandardScaler\n",
        "from sklearn.linear_model import LogisticRegression\n",
        "from sklearn.metrics import classification_report, confusion_matrix, accuracy_score, precision_score, recall_score, f1_score\n"
      ]
    },
    {
      "cell_type": "code",
      "execution_count": 69,
      "id": "7fa08464",
      "metadata": {
        "execution": {
          "iopub.execute_input": "2023-09-05T21:10:11.630270Z",
          "iopub.status.busy": "2023-09-05T21:10:11.629477Z",
          "iopub.status.idle": "2023-09-05T21:10:11.827936Z",
          "shell.execute_reply": "2023-09-05T21:10:11.826919Z"
        },
        "id": "7fa08464",
        "papermill": {
          "duration": 0.225613,
          "end_time": "2023-09-05T21:10:11.830494",
          "exception": false,
          "start_time": "2023-09-05T21:10:11.604881",
          "status": "completed"
        },
        "tags": []
      },
      "outputs": [],
      "source": [
        "# Split the data into training and testing sets\n",
        "X=df.copy()\n",
        "y=X.pop('Class')\n",
        "X_train, X_test, y_train, y_test = train_test_split(X, y, test_size=0.2, random_state=50, stratify=y)"
      ]
    },
    {
      "cell_type": "code",
      "execution_count": 70,
      "id": "b693ca7c",
      "metadata": {
        "execution": {
          "iopub.execute_input": "2023-09-05T21:10:11.880194Z",
          "iopub.status.busy": "2023-09-05T21:10:11.879875Z",
          "iopub.status.idle": "2023-09-05T21:10:11.889458Z",
          "shell.execute_reply": "2023-09-05T21:10:11.888598Z"
        },
        "id": "b693ca7c",
        "outputId": "a6160913-609d-46fd-dbc0-4ff46b225fd5",
        "papermill": {
          "duration": 0.036751,
          "end_time": "2023-09-05T21:10:11.891503",
          "exception": false,
          "start_time": "2023-09-05T21:10:11.854752",
          "status": "completed"
        },
        "tags": [],
        "colab": {
          "base_uri": "https://localhost:8080/"
        }
      },
      "outputs": [
        {
          "output_type": "execute_result",
          "data": {
            "text/plain": [
              "0.001729245759178389"
            ]
          },
          "metadata": {},
          "execution_count": 70
        }
      ],
      "source": [
        "y_train.sum()/y_train.count()"
      ]
    },
    {
      "cell_type": "code",
      "execution_count": 71,
      "id": "3a316986",
      "metadata": {
        "execution": {
          "iopub.execute_input": "2023-09-05T21:10:11.941088Z",
          "iopub.status.busy": "2023-09-05T21:10:11.940809Z",
          "iopub.status.idle": "2023-09-05T21:10:11.947220Z",
          "shell.execute_reply": "2023-09-05T21:10:11.946334Z"
        },
        "id": "3a316986",
        "outputId": "5c3acfbf-b431-494f-e141-7179d7e7fc60",
        "papermill": {
          "duration": 0.033907,
          "end_time": "2023-09-05T21:10:11.949266",
          "exception": false,
          "start_time": "2023-09-05T21:10:11.915359",
          "status": "completed"
        },
        "tags": [],
        "colab": {
          "base_uri": "https://localhost:8080/"
        }
      },
      "outputs": [
        {
          "output_type": "execute_result",
          "data": {
            "text/plain": [
              "0.0017204452090867595"
            ]
          },
          "metadata": {},
          "execution_count": 71
        }
      ],
      "source": [
        "y_test.sum()/y_test.count()"
      ]
    },
    {
      "cell_type": "markdown",
      "id": "fe7a62b4",
      "metadata": {
        "id": "fe7a62b4",
        "papermill": {
          "duration": 0.023742,
          "end_time": "2023-09-05T21:10:11.996960",
          "exception": false,
          "start_time": "2023-09-05T21:10:11.973218",
          "status": "completed"
        },
        "tags": []
      },
      "source": [
        "It can be seen that both the test and train sets have equal percentage of fraudulent transactions, as stratify is set to True"
      ]
    },
    {
      "cell_type": "markdown",
      "id": "99d7efb2",
      "metadata": {
        "id": "99d7efb2",
        "papermill": {
          "duration": 0.023503,
          "end_time": "2023-09-05T21:10:12.044160",
          "exception": false,
          "start_time": "2023-09-05T21:10:12.020657",
          "status": "completed"
        },
        "tags": []
      },
      "source": [
        "###Using Logistic Regression as the base model to determine which sampling technique is better suited for this use case"
      ]
    },
    {
      "cell_type": "code",
      "execution_count": 72,
      "id": "a4d6eb0f",
      "metadata": {
        "execution": {
          "iopub.execute_input": "2023-09-05T21:10:12.095934Z",
          "iopub.status.busy": "2023-09-05T21:10:12.095643Z",
          "iopub.status.idle": "2023-09-05T21:10:13.810347Z",
          "shell.execute_reply": "2023-09-05T21:10:13.809439Z"
        },
        "id": "a4d6eb0f",
        "outputId": "e5779e38-b9fb-4d1f-9539-c1c5c94d56b7",
        "papermill": {
          "duration": 1.744771,
          "end_time": "2023-09-05T21:10:13.813455",
          "exception": false,
          "start_time": "2023-09-05T21:10:12.068684",
          "status": "completed"
        },
        "tags": [],
        "colab": {
          "base_uri": "https://localhost:8080/",
          "height": 74
        }
      },
      "outputs": [
        {
          "output_type": "execute_result",
          "data": {
            "text/plain": [
              "LogisticRegression(random_state=50)"
            ],
            "text/html": [
              "<style>#sk-container-id-5 {color: black;background-color: white;}#sk-container-id-5 pre{padding: 0;}#sk-container-id-5 div.sk-toggleable {background-color: white;}#sk-container-id-5 label.sk-toggleable__label {cursor: pointer;display: block;width: 100%;margin-bottom: 0;padding: 0.3em;box-sizing: border-box;text-align: center;}#sk-container-id-5 label.sk-toggleable__label-arrow:before {content: \"▸\";float: left;margin-right: 0.25em;color: #696969;}#sk-container-id-5 label.sk-toggleable__label-arrow:hover:before {color: black;}#sk-container-id-5 div.sk-estimator:hover label.sk-toggleable__label-arrow:before {color: black;}#sk-container-id-5 div.sk-toggleable__content {max-height: 0;max-width: 0;overflow: hidden;text-align: left;background-color: #f0f8ff;}#sk-container-id-5 div.sk-toggleable__content pre {margin: 0.2em;color: black;border-radius: 0.25em;background-color: #f0f8ff;}#sk-container-id-5 input.sk-toggleable__control:checked~div.sk-toggleable__content {max-height: 200px;max-width: 100%;overflow: auto;}#sk-container-id-5 input.sk-toggleable__control:checked~label.sk-toggleable__label-arrow:before {content: \"▾\";}#sk-container-id-5 div.sk-estimator input.sk-toggleable__control:checked~label.sk-toggleable__label {background-color: #d4ebff;}#sk-container-id-5 div.sk-label input.sk-toggleable__control:checked~label.sk-toggleable__label {background-color: #d4ebff;}#sk-container-id-5 input.sk-hidden--visually {border: 0;clip: rect(1px 1px 1px 1px);clip: rect(1px, 1px, 1px, 1px);height: 1px;margin: -1px;overflow: hidden;padding: 0;position: absolute;width: 1px;}#sk-container-id-5 div.sk-estimator {font-family: monospace;background-color: #f0f8ff;border: 1px dotted black;border-radius: 0.25em;box-sizing: border-box;margin-bottom: 0.5em;}#sk-container-id-5 div.sk-estimator:hover {background-color: #d4ebff;}#sk-container-id-5 div.sk-parallel-item::after {content: \"\";width: 100%;border-bottom: 1px solid gray;flex-grow: 1;}#sk-container-id-5 div.sk-label:hover label.sk-toggleable__label {background-color: #d4ebff;}#sk-container-id-5 div.sk-serial::before {content: \"\";position: absolute;border-left: 1px solid gray;box-sizing: border-box;top: 0;bottom: 0;left: 50%;z-index: 0;}#sk-container-id-5 div.sk-serial {display: flex;flex-direction: column;align-items: center;background-color: white;padding-right: 0.2em;padding-left: 0.2em;position: relative;}#sk-container-id-5 div.sk-item {position: relative;z-index: 1;}#sk-container-id-5 div.sk-parallel {display: flex;align-items: stretch;justify-content: center;background-color: white;position: relative;}#sk-container-id-5 div.sk-item::before, #sk-container-id-5 div.sk-parallel-item::before {content: \"\";position: absolute;border-left: 1px solid gray;box-sizing: border-box;top: 0;bottom: 0;left: 50%;z-index: -1;}#sk-container-id-5 div.sk-parallel-item {display: flex;flex-direction: column;z-index: 1;position: relative;background-color: white;}#sk-container-id-5 div.sk-parallel-item:first-child::after {align-self: flex-end;width: 50%;}#sk-container-id-5 div.sk-parallel-item:last-child::after {align-self: flex-start;width: 50%;}#sk-container-id-5 div.sk-parallel-item:only-child::after {width: 0;}#sk-container-id-5 div.sk-dashed-wrapped {border: 1px dashed gray;margin: 0 0.4em 0.5em 0.4em;box-sizing: border-box;padding-bottom: 0.4em;background-color: white;}#sk-container-id-5 div.sk-label label {font-family: monospace;font-weight: bold;display: inline-block;line-height: 1.2em;}#sk-container-id-5 div.sk-label-container {text-align: center;}#sk-container-id-5 div.sk-container {/* jupyter's `normalize.less` sets `[hidden] { display: none; }` but bootstrap.min.css set `[hidden] { display: none !important; }` so we also need the `!important` here to be able to override the default hidden behavior on the sphinx rendered scikit-learn.org. See: https://github.com/scikit-learn/scikit-learn/issues/21755 */display: inline-block !important;position: relative;}#sk-container-id-5 div.sk-text-repr-fallback {display: none;}</style><div id=\"sk-container-id-5\" class=\"sk-top-container\"><div class=\"sk-text-repr-fallback\"><pre>LogisticRegression(random_state=50)</pre><b>In a Jupyter environment, please rerun this cell to show the HTML representation or trust the notebook. <br />On GitHub, the HTML representation is unable to render, please try loading this page with nbviewer.org.</b></div><div class=\"sk-container\" hidden><div class=\"sk-item\"><div class=\"sk-estimator sk-toggleable\"><input class=\"sk-toggleable__control sk-hidden--visually\" id=\"sk-estimator-id-7\" type=\"checkbox\" checked><label for=\"sk-estimator-id-7\" class=\"sk-toggleable__label sk-toggleable__label-arrow\">LogisticRegression</label><div class=\"sk-toggleable__content\"><pre>LogisticRegression(random_state=50)</pre></div></div></div></div></div>"
            ]
          },
          "metadata": {},
          "execution_count": 72
        }
      ],
      "source": [
        "# Standardize the features\n",
        "scaler = StandardScaler()\n",
        "X_train_scaled = scaler.fit_transform(X_train)\n",
        "X_test_scaled = scaler.transform(X_test)\n",
        "\n",
        "#Initialize and train the Logistic Regression model\n",
        "model = LogisticRegression(random_state=50)\n",
        "model.fit(X_train_scaled, y_train)"
      ]
    },
    {
      "cell_type": "code",
      "execution_count": 73,
      "id": "03484ed9",
      "metadata": {
        "execution": {
          "iopub.execute_input": "2023-09-05T21:10:13.920111Z",
          "iopub.status.busy": "2023-09-05T21:10:13.919521Z",
          "iopub.status.idle": "2023-09-05T21:10:14.073957Z",
          "shell.execute_reply": "2023-09-05T21:10:14.072545Z"
        },
        "id": "03484ed9",
        "outputId": "e1e4a7d0-11ba-4d16-b7b8-e59b1d5821ae",
        "papermill": {
          "duration": 0.209677,
          "end_time": "2023-09-05T21:10:14.076102",
          "exception": false,
          "start_time": "2023-09-05T21:10:13.866425",
          "status": "completed"
        },
        "tags": [],
        "colab": {
          "base_uri": "https://localhost:8080/"
        }
      },
      "outputs": [
        {
          "output_type": "stream",
          "name": "stdout",
          "text": [
            "Confusion Matrix:\n",
            "[[56858     6]\n",
            " [   35    63]]\n",
            "\n",
            "Classification Report:\n",
            "              precision    recall  f1-score   support\n",
            "\n",
            "           0       1.00      1.00      1.00     56864\n",
            "           1       0.91      0.64      0.75        98\n",
            "\n",
            "    accuracy                           1.00     56962\n",
            "   macro avg       0.96      0.82      0.88     56962\n",
            "weighted avg       1.00      1.00      1.00     56962\n",
            "\n"
          ]
        }
      ],
      "source": [
        "# Make predictions on the test set\n",
        "y_pred = model.predict(X_test_scaled)\n",
        "# Evaluate the model\n",
        "print(\"Confusion Matrix:\")\n",
        "print(confusion_matrix(y_test, y_pred))\n",
        "\n",
        "print(\"\\nClassification Report:\")\n",
        "print(classification_report(y_test, y_pred))"
      ]
    },
    {
      "cell_type": "code",
      "execution_count": 74,
      "id": "c8d69082",
      "metadata": {
        "execution": {
          "iopub.execute_input": "2023-09-05T21:10:14.125935Z",
          "iopub.status.busy": "2023-09-05T21:10:14.125665Z",
          "iopub.status.idle": "2023-09-05T21:10:14.183136Z",
          "shell.execute_reply": "2023-09-05T21:10:14.181812Z"
        },
        "id": "c8d69082",
        "outputId": "7a9576d6-b493-4504-fa6d-5698a5f885c3",
        "papermill": {
          "duration": 0.084767,
          "end_time": "2023-09-05T21:10:14.185185",
          "exception": false,
          "start_time": "2023-09-05T21:10:14.100418",
          "status": "completed"
        },
        "tags": [],
        "colab": {
          "base_uri": "https://localhost:8080/"
        }
      },
      "outputs": [
        {
          "output_type": "stream",
          "name": "stdout",
          "text": [
            "     Iteration  Accuracy  Precision    Recall  F1-Score\n",
            "0  No_Sampling   0.99928   0.913043  0.642857  0.754491\n"
          ]
        }
      ],
      "source": [
        "# Calculate the metrics\n",
        "accuracy = accuracy_score(y_test , y_pred)\n",
        "precision = precision_score(y_test, y_pred)\n",
        "recall = recall_score(y_test, y_pred)\n",
        "f1 = f1_score(y_test, y_pred)\n",
        "results=pd.DataFrame(columns=['Iteration','Accuracy', 'Precision', 'Recall', 'F1-Score'])\n",
        "# Create a DataFrame\n",
        "results=results._append({'Iteration':'No_Sampling','Accuracy':accuracy, 'Precision':precision, 'Recall':recall, 'F1-Score':f1}, ignore_index=True)\n",
        "\n",
        "# Display the result DataFrame\n",
        "print(results)"
      ]
    },
    {
      "cell_type": "code",
      "execution_count": 75,
      "id": "00cbce55",
      "metadata": {
        "execution": {
          "iopub.execute_input": "2023-09-05T21:10:14.236366Z",
          "iopub.status.busy": "2023-09-05T21:10:14.235766Z",
          "iopub.status.idle": "2023-09-05T21:10:14.858451Z",
          "shell.execute_reply": "2023-09-05T21:10:14.857462Z"
        },
        "id": "00cbce55",
        "papermill": {
          "duration": 0.650422,
          "end_time": "2023-09-05T21:10:14.860939",
          "exception": false,
          "start_time": "2023-09-05T21:10:14.210517",
          "status": "completed"
        },
        "tags": []
      },
      "outputs": [],
      "source": [
        "from imblearn.over_sampling import RandomOverSampler\n",
        "# Perform random upsampling using RandomOverSampler\n",
        "oversampler = RandomOverSampler(sampling_strategy='minority', random_state=25)\n",
        "X_train_resampled, y_train_resampled = oversampler.fit_resample(X_train, y_train)"
      ]
    },
    {
      "cell_type": "code",
      "execution_count": 76,
      "id": "b9ca3065",
      "metadata": {
        "execution": {
          "iopub.execute_input": "2023-09-05T21:10:14.914601Z",
          "iopub.status.busy": "2023-09-05T21:10:14.914193Z",
          "iopub.status.idle": "2023-09-05T21:10:14.921492Z",
          "shell.execute_reply": "2023-09-05T21:10:14.920567Z"
        },
        "id": "b9ca3065",
        "outputId": "f4e22dd8-22bb-464f-d5f6-19cde64c475e",
        "papermill": {
          "duration": 0.036275,
          "end_time": "2023-09-05T21:10:14.923643",
          "exception": false,
          "start_time": "2023-09-05T21:10:14.887368",
          "status": "completed"
        },
        "tags": [],
        "colab": {
          "base_uri": "https://localhost:8080/"
        }
      },
      "outputs": [
        {
          "output_type": "execute_result",
          "data": {
            "text/plain": [
              "0.5"
            ]
          },
          "metadata": {},
          "execution_count": 76
        }
      ],
      "source": [
        "y_train_resampled.sum()/y_train_resampled.count()"
      ]
    },
    {
      "cell_type": "markdown",
      "id": "3b6bd6cd",
      "metadata": {
        "id": "3b6bd6cd",
        "papermill": {
          "duration": 0.024471,
          "end_time": "2023-09-05T21:10:14.972549",
          "exception": false,
          "start_time": "2023-09-05T21:10:14.948078",
          "status": "completed"
        },
        "tags": []
      },
      "source": [
        "### It can be seen that the number of fraudulent transactions have been Oversampled to bring its proportion to 50% of the training dataset"
      ]
    },
    {
      "cell_type": "code",
      "execution_count": 77,
      "id": "ed1c6b29",
      "metadata": {
        "execution": {
          "iopub.execute_input": "2023-09-05T21:10:15.022253Z",
          "iopub.status.busy": "2023-09-05T21:10:15.021991Z",
          "iopub.status.idle": "2023-09-05T21:10:23.559304Z",
          "shell.execute_reply": "2023-09-05T21:10:23.558097Z"
        },
        "id": "ed1c6b29",
        "outputId": "7ea41ca2-6ebd-44f0-bd60-de74a8340af7",
        "papermill": {
          "duration": 8.566179,
          "end_time": "2023-09-05T21:10:23.562934",
          "exception": false,
          "start_time": "2023-09-05T21:10:14.996755",
          "status": "completed"
        },
        "tags": [],
        "colab": {
          "base_uri": "https://localhost:8080/"
        }
      },
      "outputs": [
        {
          "output_type": "stream",
          "name": "stdout",
          "text": [
            "           Iteration  Accuracy  Precision    Recall  F1-Score\n",
            "0        No_Sampling  0.999280   0.913043  0.642857  0.754491\n",
            "1  Random_Upsampling  0.967417   0.046907  0.928571  0.089303\n"
          ]
        }
      ],
      "source": [
        "# Initialize and train the Logistic Regression model\n",
        "model = LogisticRegression(random_state=50,max_iter=1000)\n",
        "model.fit(X_train_resampled, y_train_resampled)\n",
        "\n",
        "# Make predictions on the test set\n",
        "y_pred = model.predict(X_test)\n",
        "\n",
        "# Calculate the metrics\n",
        "accuracy = accuracy_score(y_test, y_pred)\n",
        "precision = precision_score(y_test, y_pred)\n",
        "recall = recall_score(y_test, y_pred)\n",
        "f1 = f1_score(y_test, y_pred)\n",
        "\n",
        "# Create a DataFrame to store results\n",
        "#results = pd.DataFrame(columns=['Iteration', 'Accuracy', 'Precision', 'Recall', 'F1-Score'])\n",
        "\n",
        "# Append the results as a row to the DataFrame\n",
        "results = results._append({'Iteration': 'Random_Upsampling', 'Accuracy': accuracy, 'Precision': precision, 'Recall': recall, 'F1-Score': f1}, ignore_index=True)\n",
        "\n",
        "# Display the result DataFrame\n",
        "print(results)"
      ]
    },
    {
      "cell_type": "markdown",
      "id": "60140234",
      "metadata": {
        "id": "60140234",
        "papermill": {
          "duration": 0.024365,
          "end_time": "2023-09-05T21:10:23.613957",
          "exception": false,
          "start_time": "2023-09-05T21:10:23.589592",
          "status": "completed"
        },
        "tags": []
      },
      "source": [
        "It can be seen that the Recall went up to 0.92 from 0.64 in the earlier case, which means the model is performing better at detecting Fraudulent transaction.\n",
        "However the precision of the model has decreased drastically. A lower precision means that the model's predictions for the positive class (here, fraudulent transactions) are less accurate or have a higher rate of false positives."
      ]
    },
    {
      "cell_type": "markdown",
      "id": "d6661fd0",
      "metadata": {
        "id": "d6661fd0",
        "papermill": {
          "duration": 0.024091,
          "end_time": "2023-09-05T21:10:23.662332",
          "exception": false,
          "start_time": "2023-09-05T21:10:23.638241",
          "status": "completed"
        },
        "tags": []
      },
      "source": [
        "High Precision: When precision is high, it means that when the model predicts a transaction as fraudulent, it is likely to be correct. This is important when the cost of false alarms (flagging a legitimate transaction as fraudulent) is high.\n",
        "\n",
        "Low Precision: When precision is low, the model is incorrectly flagging more legitimate transactions as fraudulent. This can be problematic, as it can result in user inconvenience and dissatisfaction due to unnecessary transaction holds or declines."
      ]
    },
    {
      "cell_type": "markdown",
      "id": "904840a8",
      "metadata": {
        "id": "904840a8",
        "papermill": {
          "duration": 0.024601,
          "end_time": "2023-09-05T21:10:23.711611",
          "exception": false,
          "start_time": "2023-09-05T21:10:23.687010",
          "status": "completed"
        },
        "tags": []
      },
      "source": [
        "Since the business case prioritises identifying the fraudulent transactions accurately than the non-fraudulent ones,\n",
        "\n",
        "**Recall is the focus metric for this case study**\n",
        "\n",
        "\n",
        "\n",
        "\n",
        "\n"
      ]
    },
    {
      "cell_type": "code",
      "execution_count": 78,
      "id": "db846229",
      "metadata": {
        "execution": {
          "iopub.execute_input": "2023-09-05T21:10:23.762329Z",
          "iopub.status.busy": "2023-09-05T21:10:23.761719Z",
          "iopub.status.idle": "2023-09-05T21:10:23.993669Z",
          "shell.execute_reply": "2023-09-05T21:10:23.992676Z"
        },
        "id": "db846229",
        "outputId": "e62db0ce-572b-47d5-93f4-9ffc18309e80",
        "papermill": {
          "duration": 0.260845,
          "end_time": "2023-09-05T21:10:23.997232",
          "exception": false,
          "start_time": "2023-09-05T21:10:23.736387",
          "status": "completed"
        },
        "tags": [],
        "colab": {
          "base_uri": "https://localhost:8080/"
        }
      },
      "outputs": [
        {
          "output_type": "stream",
          "name": "stdout",
          "text": [
            "              Iteration  Accuracy  Precision    Recall  F1-Score\n",
            "0           No_Sampling  0.999280   0.913043  0.642857  0.754491\n",
            "1     Random_Upsampling  0.967417   0.046907  0.928571  0.089303\n",
            "2  Random_Undersampling  0.939732   0.025874  0.928571  0.050346\n"
          ]
        }
      ],
      "source": [
        "from imblearn.under_sampling import RandomUnderSampler\n",
        "# Perform random undersampling using RandomUnderSampler\n",
        "undersampler = RandomUnderSampler(sampling_strategy='majority', random_state=25)\n",
        "X_train_resampled, y_train_resampled = undersampler.fit_resample(X_train, y_train)\n",
        "\n",
        "# Initialize and train the Logistic Regression model\n",
        "model = LogisticRegression(random_state=50, max_iter=1000)\n",
        "model.fit(X_train_resampled, y_train_resampled)\n",
        "\n",
        "# Make predictions on the test set\n",
        "y_pred = model.predict(X_test)\n",
        "\n",
        "# Calculate the metrics\n",
        "accuracy = accuracy_score(y_test, y_pred)\n",
        "precision = precision_score(y_test, y_pred)\n",
        "recall = recall_score(y_test, y_pred)\n",
        "f1 = f1_score(y_test, y_pred)\n",
        "\n",
        "\n",
        "# Append the results as a row to the DataFrame\n",
        "results = results._append({'Iteration': 'Random_Undersampling', 'Accuracy': accuracy, 'Precision': precision, 'Recall': recall, 'F1-Score': f1}, ignore_index=True)\n",
        "\n",
        "# Display the result DataFrame\n",
        "print(results)"
      ]
    },
    {
      "cell_type": "markdown",
      "id": "9b00728d",
      "metadata": {
        "id": "9b00728d",
        "papermill": {
          "duration": 0.024394,
          "end_time": "2023-09-05T21:10:24.052687",
          "exception": false,
          "start_time": "2023-09-05T21:10:24.028293",
          "status": "completed"
        },
        "tags": []
      },
      "source": [
        "We see that the Recall is similar however the precision has decreased further as compared to Random Over Sampling"
      ]
    },
    {
      "cell_type": "code",
      "execution_count": 79,
      "id": "f64ca6f3",
      "metadata": {
        "execution": {
          "iopub.execute_input": "2023-09-05T21:10:24.103078Z",
          "iopub.status.busy": "2023-09-05T21:10:24.102800Z",
          "iopub.status.idle": "2023-09-05T21:10:28.718966Z",
          "shell.execute_reply": "2023-09-05T21:10:28.716868Z"
        },
        "id": "f64ca6f3",
        "outputId": "226d4bbc-1d65-4d6d-9745-9f7738fc3fdf",
        "papermill": {
          "duration": 4.643812,
          "end_time": "2023-09-05T21:10:28.721262",
          "exception": false,
          "start_time": "2023-09-05T21:10:24.077450",
          "status": "completed"
        },
        "tags": [],
        "colab": {
          "base_uri": "https://localhost:8080/"
        }
      },
      "outputs": [
        {
          "output_type": "stream",
          "name": "stdout",
          "text": [
            "              Iteration  Accuracy  Precision    Recall  F1-Score\n",
            "0           No_Sampling  0.999280   0.913043  0.642857  0.754491\n",
            "1     Random_Upsampling  0.967417   0.046907  0.928571  0.089303\n",
            "2  Random_Undersampling  0.939732   0.025874  0.928571  0.050346\n",
            "3                 SMOTE  0.966732   0.044602  0.897959  0.084983\n"
          ]
        }
      ],
      "source": [
        "from imblearn.over_sampling import SMOTE\n",
        "# Perform SMOTE to generate synthetic samples for the minority class\n",
        "smote = SMOTE(sampling_strategy='auto', random_state=25)\n",
        "X_train_resampled, y_train_resampled = smote.fit_resample(X_train, y_train)\n",
        "\n",
        "# Initialize and train the Logistic Regression model\n",
        "model = LogisticRegression(random_state=50)\n",
        "model.fit(X_train_resampled, y_train_resampled)\n",
        "\n",
        "# Make predictions on the test set\n",
        "y_pred = model.predict(X_test)\n",
        "\n",
        "# Calculate the metrics\n",
        "accuracy = accuracy_score(y_test, y_pred)\n",
        "precision = precision_score(y_test, y_pred)\n",
        "recall = recall_score(y_test, y_pred)\n",
        "f1 = f1_score(y_test, y_pred)\n",
        "\n",
        "\n",
        "# Append the results as a row to the DataFrame\n",
        "results = results._append({'Iteration': 'SMOTE', 'Accuracy': accuracy, 'Precision': precision, 'Recall': recall, 'F1-Score': f1}, ignore_index=True)\n",
        "\n",
        "# Display the result DataFrame\n",
        "print(results)"
      ]
    },
    {
      "cell_type": "markdown",
      "id": "43b87594",
      "metadata": {
        "id": "43b87594",
        "papermill": {
          "duration": 0.024564,
          "end_time": "2023-09-05T21:10:28.771664",
          "exception": false,
          "start_time": "2023-09-05T21:10:28.747100",
          "status": "completed"
        },
        "tags": []
      },
      "source": [
        "We can observe that the using SMOTE, Recall decreased but we also see a marginal increase in the Precision."
      ]
    },
    {
      "cell_type": "code",
      "execution_count": 80,
      "id": "c0b22ef1",
      "metadata": {
        "execution": {
          "iopub.execute_input": "2023-09-05T21:10:28.821988Z",
          "iopub.status.busy": "2023-09-05T21:10:28.821697Z",
          "iopub.status.idle": "2023-09-05T21:10:36.585117Z",
          "shell.execute_reply": "2023-09-05T21:10:36.583883Z"
        },
        "id": "c0b22ef1",
        "outputId": "6a789e25-ad2f-4c1e-98f0-db7b62ab574d",
        "papermill": {
          "duration": 7.793643,
          "end_time": "2023-09-05T21:10:36.589793",
          "exception": false,
          "start_time": "2023-09-05T21:10:28.796150",
          "status": "completed"
        },
        "tags": [],
        "colab": {
          "base_uri": "https://localhost:8080/"
        }
      },
      "outputs": [
        {
          "output_type": "stream",
          "name": "stdout",
          "text": [
            "              Iteration  Accuracy  Precision    Recall  F1-Score\n",
            "0           No_Sampling  0.999280   0.913043  0.642857  0.754491\n",
            "1     Random_Upsampling  0.967417   0.046907  0.928571  0.089303\n",
            "2  Random_Undersampling  0.939732   0.025874  0.928571  0.050346\n",
            "3                 SMOTE  0.966732   0.044602  0.897959  0.084983\n",
            "4                ADASYN  0.981093   0.076923  0.908163  0.141833\n"
          ]
        }
      ],
      "source": [
        "from imblearn.over_sampling import ADASYN\n",
        "# Perform ADASYN to generate synthetic samples for the minority class\n",
        "adasyn = ADASYN(sampling_strategy='auto', random_state=25)\n",
        "X_train_resampled, y_train_resampled = adasyn.fit_resample(X_train, y_train)\n",
        "\n",
        "# Initialize and train the Logistic Regression model\n",
        "logit_model = LogisticRegression(random_state=50,max_iter=1000)\n",
        "logit_model.fit(X_train_resampled, y_train_resampled)\n",
        "\n",
        "# Make predictions on the test set\n",
        "y_pred = logit_model.predict(X_test)\n",
        "\n",
        "# Calculate the metrics\n",
        "accuracy = accuracy_score(y_test, y_pred)\n",
        "precision = precision_score(y_test, y_pred)\n",
        "recall = recall_score(y_test, y_pred)\n",
        "f1 = f1_score(y_test, y_pred)\n",
        "\n",
        "# Append the results as a row to the DataFrame\n",
        "results = results._append({'Iteration': 'ADASYN', 'Accuracy': accuracy, 'Precision': precision, 'Recall': recall, 'F1-Score': f1}, ignore_index=True)\n",
        "\n",
        "# Display the result DataFrame\n",
        "print(results)"
      ]
    },
    {
      "cell_type": "markdown",
      "id": "9290d26c",
      "metadata": {
        "id": "9290d26c",
        "papermill": {
          "duration": 0.02487,
          "end_time": "2023-09-05T21:10:36.640091",
          "exception": false,
          "start_time": "2023-09-05T21:10:36.615221",
          "status": "completed"
        },
        "tags": []
      },
      "source": [
        "We can observe that the Reall and Precision both increase marginally.\n",
        "Thus, ADASYN resampled dataset will be used for buiilding other models."
      ]
    },
    {
      "cell_type": "code",
      "execution_count": 81,
      "id": "c13521ae",
      "metadata": {
        "execution": {
          "iopub.execute_input": "2023-09-05T21:10:36.690796Z",
          "iopub.status.busy": "2023-09-05T21:10:36.690485Z",
          "iopub.status.idle": "2023-09-05T21:10:36.702216Z",
          "shell.execute_reply": "2023-09-05T21:10:36.700971Z"
        },
        "id": "c13521ae",
        "outputId": "93b4485a-2d93-48b2-f023-70938ec843dd",
        "papermill": {
          "duration": 0.039527,
          "end_time": "2023-09-05T21:10:36.704180",
          "exception": false,
          "start_time": "2023-09-05T21:10:36.664653",
          "status": "completed"
        },
        "tags": [],
        "colab": {
          "base_uri": "https://localhost:8080/"
        }
      },
      "outputs": [
        {
          "output_type": "stream",
          "name": "stdout",
          "text": [
            "                 Model  Accuracy  Precision    Recall  F1-Score\n",
            "0  Logistic_Regression  0.981093   0.076923  0.908163  0.141833\n"
          ]
        }
      ],
      "source": [
        "# Create a DataFrame to store results\n",
        "results_mod= pd.DataFrame(columns=['Model', 'Accuracy', 'Precision', 'Recall', 'F1-Score'])\n",
        "# Append the results as a row to the DataFrame\n",
        "results_mod = results_mod._append({'Model': 'Logistic_Regression', 'Accuracy': accuracy, 'Precision': precision, 'Recall': recall, 'F1-Score': f1}, ignore_index=True)\n",
        "print(results_mod)"
      ]
    },
    {
      "cell_type": "markdown",
      "id": "600544c1",
      "metadata": {
        "id": "600544c1",
        "papermill": {
          "duration": 0.024816,
          "end_time": "2023-09-05T21:10:36.753998",
          "exception": false,
          "start_time": "2023-09-05T21:10:36.729182",
          "status": "completed"
        },
        "tags": []
      },
      "source": [
        "#Using KNN Classifier"
      ]
    },
    {
      "cell_type": "code",
      "execution_count": 83,
      "id": "6b80608c",
      "metadata": {
        "execution": {
          "iopub.execute_input": "2023-09-05T21:10:36.804965Z",
          "iopub.status.busy": "2023-09-05T21:10:36.804184Z",
          "iopub.status.idle": "2023-09-05T21:17:57.580465Z",
          "shell.execute_reply": "2023-09-05T21:17:57.579273Z"
        },
        "id": "6b80608c",
        "outputId": "e4fa451e-e0c6-4a2d-bb4e-fc7712fc3fdc",
        "papermill": {
          "duration": 440.804451,
          "end_time": "2023-09-05T21:17:57.583182",
          "exception": false,
          "start_time": "2023-09-05T21:10:36.778731",
          "status": "completed"
        },
        "tags": [],
        "colab": {
          "base_uri": "https://localhost:8080/"
        }
      },
      "outputs": [
        {
          "output_type": "stream",
          "name": "stdout",
          "text": [
            "Fitting 2 folds for each of 4 candidates, totalling 8 fits\n"
          ]
        }
      ],
      "source": [
        "from sklearn.neighbors import KNeighborsClassifier\n",
        "from sklearn.model_selection import GridSearchCV\n",
        "\n",
        "# Standardize the data\n",
        "scaler = StandardScaler()\n",
        "X_train_scaled = scaler.fit_transform(X_train)\n",
        "X_test_scaled = scaler.transform(X_test)\n",
        "\n",
        "# Initialize the KNN classifier\n",
        "knn = KNeighborsClassifier()\n",
        "\n",
        "# Define hyperparameters and values to search\n",
        "param_grid = {\n",
        "    'n_neighbors': [3, 5, 7, 9],  # Different values of k\n",
        "    #'metric': ['euclidean', 'manhattan']  # Different distance metrics\n",
        "}\n",
        "\n",
        "# Initialize GridSearchCV\n",
        "grid_search = GridSearchCV(knn, param_grid, cv=2, n_jobs=-1, scoring='recall', verbose=1)\n",
        "\n",
        "# Perform GridSearchCV to find the best hyperparameters\n",
        "grid_search.fit(X_train_scaled, y_train)\n",
        "\n",
        "# Get the best parameters and model\n",
        "best_params = grid_search.best_params_\n",
        "best_model = grid_search.best_estimator_\n",
        "\n"
      ]
    },
    {
      "cell_type": "code",
      "execution_count": 84,
      "id": "c588cc18",
      "metadata": {
        "execution": {
          "iopub.execute_input": "2023-09-05T21:17:57.637162Z",
          "iopub.status.busy": "2023-09-05T21:17:57.636848Z",
          "iopub.status.idle": "2023-09-05T21:17:57.644373Z",
          "shell.execute_reply": "2023-09-05T21:17:57.643484Z"
        },
        "id": "c588cc18",
        "outputId": "8ad2deba-ba8e-4fc8-b75e-fa5fa1ff2058",
        "papermill": {
          "duration": 0.036165,
          "end_time": "2023-09-05T21:17:57.646326",
          "exception": false,
          "start_time": "2023-09-05T21:17:57.610161",
          "status": "completed"
        },
        "tags": [],
        "colab": {
          "base_uri": "https://localhost:8080/",
          "height": 74
        }
      },
      "outputs": [
        {
          "output_type": "execute_result",
          "data": {
            "text/plain": [
              "KNeighborsClassifier(n_neighbors=3)"
            ],
            "text/html": [
              "<style>#sk-container-id-6 {color: black;background-color: white;}#sk-container-id-6 pre{padding: 0;}#sk-container-id-6 div.sk-toggleable {background-color: white;}#sk-container-id-6 label.sk-toggleable__label {cursor: pointer;display: block;width: 100%;margin-bottom: 0;padding: 0.3em;box-sizing: border-box;text-align: center;}#sk-container-id-6 label.sk-toggleable__label-arrow:before {content: \"▸\";float: left;margin-right: 0.25em;color: #696969;}#sk-container-id-6 label.sk-toggleable__label-arrow:hover:before {color: black;}#sk-container-id-6 div.sk-estimator:hover label.sk-toggleable__label-arrow:before {color: black;}#sk-container-id-6 div.sk-toggleable__content {max-height: 0;max-width: 0;overflow: hidden;text-align: left;background-color: #f0f8ff;}#sk-container-id-6 div.sk-toggleable__content pre {margin: 0.2em;color: black;border-radius: 0.25em;background-color: #f0f8ff;}#sk-container-id-6 input.sk-toggleable__control:checked~div.sk-toggleable__content {max-height: 200px;max-width: 100%;overflow: auto;}#sk-container-id-6 input.sk-toggleable__control:checked~label.sk-toggleable__label-arrow:before {content: \"▾\";}#sk-container-id-6 div.sk-estimator input.sk-toggleable__control:checked~label.sk-toggleable__label {background-color: #d4ebff;}#sk-container-id-6 div.sk-label input.sk-toggleable__control:checked~label.sk-toggleable__label {background-color: #d4ebff;}#sk-container-id-6 input.sk-hidden--visually {border: 0;clip: rect(1px 1px 1px 1px);clip: rect(1px, 1px, 1px, 1px);height: 1px;margin: -1px;overflow: hidden;padding: 0;position: absolute;width: 1px;}#sk-container-id-6 div.sk-estimator {font-family: monospace;background-color: #f0f8ff;border: 1px dotted black;border-radius: 0.25em;box-sizing: border-box;margin-bottom: 0.5em;}#sk-container-id-6 div.sk-estimator:hover {background-color: #d4ebff;}#sk-container-id-6 div.sk-parallel-item::after {content: \"\";width: 100%;border-bottom: 1px solid gray;flex-grow: 1;}#sk-container-id-6 div.sk-label:hover label.sk-toggleable__label {background-color: #d4ebff;}#sk-container-id-6 div.sk-serial::before {content: \"\";position: absolute;border-left: 1px solid gray;box-sizing: border-box;top: 0;bottom: 0;left: 50%;z-index: 0;}#sk-container-id-6 div.sk-serial {display: flex;flex-direction: column;align-items: center;background-color: white;padding-right: 0.2em;padding-left: 0.2em;position: relative;}#sk-container-id-6 div.sk-item {position: relative;z-index: 1;}#sk-container-id-6 div.sk-parallel {display: flex;align-items: stretch;justify-content: center;background-color: white;position: relative;}#sk-container-id-6 div.sk-item::before, #sk-container-id-6 div.sk-parallel-item::before {content: \"\";position: absolute;border-left: 1px solid gray;box-sizing: border-box;top: 0;bottom: 0;left: 50%;z-index: -1;}#sk-container-id-6 div.sk-parallel-item {display: flex;flex-direction: column;z-index: 1;position: relative;background-color: white;}#sk-container-id-6 div.sk-parallel-item:first-child::after {align-self: flex-end;width: 50%;}#sk-container-id-6 div.sk-parallel-item:last-child::after {align-self: flex-start;width: 50%;}#sk-container-id-6 div.sk-parallel-item:only-child::after {width: 0;}#sk-container-id-6 div.sk-dashed-wrapped {border: 1px dashed gray;margin: 0 0.4em 0.5em 0.4em;box-sizing: border-box;padding-bottom: 0.4em;background-color: white;}#sk-container-id-6 div.sk-label label {font-family: monospace;font-weight: bold;display: inline-block;line-height: 1.2em;}#sk-container-id-6 div.sk-label-container {text-align: center;}#sk-container-id-6 div.sk-container {/* jupyter's `normalize.less` sets `[hidden] { display: none; }` but bootstrap.min.css set `[hidden] { display: none !important; }` so we also need the `!important` here to be able to override the default hidden behavior on the sphinx rendered scikit-learn.org. See: https://github.com/scikit-learn/scikit-learn/issues/21755 */display: inline-block !important;position: relative;}#sk-container-id-6 div.sk-text-repr-fallback {display: none;}</style><div id=\"sk-container-id-6\" class=\"sk-top-container\"><div class=\"sk-text-repr-fallback\"><pre>KNeighborsClassifier(n_neighbors=3)</pre><b>In a Jupyter environment, please rerun this cell to show the HTML representation or trust the notebook. <br />On GitHub, the HTML representation is unable to render, please try loading this page with nbviewer.org.</b></div><div class=\"sk-container\" hidden><div class=\"sk-item\"><div class=\"sk-estimator sk-toggleable\"><input class=\"sk-toggleable__control sk-hidden--visually\" id=\"sk-estimator-id-8\" type=\"checkbox\" checked><label for=\"sk-estimator-id-8\" class=\"sk-toggleable__label sk-toggleable__label-arrow\">KNeighborsClassifier</label><div class=\"sk-toggleable__content\"><pre>KNeighborsClassifier(n_neighbors=3)</pre></div></div></div></div></div>"
            ]
          },
          "metadata": {},
          "execution_count": 84
        }
      ],
      "source": [
        "best_model"
      ]
    },
    {
      "cell_type": "code",
      "execution_count": null,
      "id": "d1a75634",
      "metadata": {
        "execution": {
          "iopub.execute_input": "2023-09-05T21:17:57.698251Z",
          "iopub.status.busy": "2023-09-05T21:17:57.697388Z",
          "iopub.status.idle": "2023-09-05T21:18:50.694787Z",
          "shell.execute_reply": "2023-09-05T21:18:50.693747Z"
        },
        "id": "d1a75634",
        "papermill": {
          "duration": 53.026272,
          "end_time": "2023-09-05T21:18:50.697544",
          "exception": false,
          "start_time": "2023-09-05T21:17:57.671272",
          "status": "completed"
        },
        "tags": []
      },
      "outputs": [],
      "source": [
        "# Train the KNN classifier\n",
        "best_model.fit(X_train_scaled, y_train)\n",
        "\n",
        "# Make predictions on the test mset\n",
        "y_pred = best_model.predict(X_test_scaled)\n"
      ]
    },
    {
      "cell_type": "code",
      "execution_count": null,
      "id": "6b92d029",
      "metadata": {
        "execution": {
          "iopub.execute_input": "2023-09-05T21:18:50.752827Z",
          "iopub.status.busy": "2023-09-05T21:18:50.752008Z",
          "iopub.status.idle": "2023-09-05T21:18:50.810576Z",
          "shell.execute_reply": "2023-09-05T21:18:50.809380Z"
        },
        "id": "6b92d029",
        "papermill": {
          "duration": 0.088813,
          "end_time": "2023-09-05T21:18:50.812761",
          "exception": false,
          "start_time": "2023-09-05T21:18:50.723948",
          "status": "completed"
        },
        "tags": []
      },
      "outputs": [],
      "source": [
        "# Calculate the metrics\n",
        "accuracy = accuracy_score(y_test, y_pred)\n",
        "precision = precision_score(y_test, y_pred)\n",
        "recall = recall_score(y_test, y_pred)\n",
        "f1 = f1_score(y_test, y_pred)\n",
        "\n",
        "\n",
        "# Append the results as a row to the DataFrame\n",
        "results_mod = results_mod._append({'Model': 'KNN', 'Accuracy': accuracy, 'Precision': precision, 'Recall': recall, 'F1-Score': f1}, ignore_index=True)\n",
        "\n",
        "# Display the result DataFrame\n",
        "print(results_mod)"
      ]
    },
    {
      "cell_type": "markdown",
      "id": "ddb69dba",
      "metadata": {
        "id": "ddb69dba",
        "papermill": {
          "duration": 0.024859,
          "end_time": "2023-09-05T21:18:50.863082",
          "exception": false,
          "start_time": "2023-09-05T21:18:50.838223",
          "status": "completed"
        },
        "tags": []
      },
      "source": [
        "##Using Random Forest Classifier"
      ]
    },
    {
      "cell_type": "code",
      "execution_count": null,
      "id": "aa3ae382",
      "metadata": {
        "execution": {
          "iopub.execute_input": "2023-09-05T21:18:50.914464Z",
          "iopub.status.busy": "2023-09-05T21:18:50.914194Z",
          "iopub.status.idle": "2023-09-05T21:18:50.922116Z",
          "shell.execute_reply": "2023-09-05T21:18:50.921260Z"
        },
        "id": "aa3ae382",
        "papermill": {
          "duration": 0.035854,
          "end_time": "2023-09-05T21:18:50.924042",
          "exception": false,
          "start_time": "2023-09-05T21:18:50.888188",
          "status": "completed"
        },
        "tags": []
      },
      "outputs": [],
      "source": [
        "y_train_resampled.count()"
      ]
    },
    {
      "cell_type": "markdown",
      "id": "adaf7d5f",
      "metadata": {
        "id": "adaf7d5f",
        "papermill": {
          "duration": 0.025289,
          "end_time": "2023-09-05T21:18:50.974867",
          "exception": false,
          "start_time": "2023-09-05T21:18:50.949578",
          "status": "completed"
        },
        "tags": []
      },
      "source": [
        "Since the training data is huge, the number of iterations to be performed for hyperparameter tuning will be limited due to lesser available computing resources and time."
      ]
    },
    {
      "cell_type": "code",
      "execution_count": null,
      "id": "93f994a8",
      "metadata": {
        "execution": {
          "iopub.execute_input": "2023-09-05T21:18:51.027258Z",
          "iopub.status.busy": "2023-09-05T21:18:51.026497Z",
          "iopub.status.idle": "2023-09-05T21:20:48.777574Z",
          "shell.execute_reply": "2023-09-05T21:20:48.776668Z"
        },
        "id": "93f994a8",
        "papermill": {
          "duration": 117.806712,
          "end_time": "2023-09-05T21:20:48.806924",
          "exception": false,
          "start_time": "2023-09-05T21:18:51.000212",
          "status": "completed"
        },
        "tags": []
      },
      "outputs": [],
      "source": [
        "from sklearn.model_selection import GridSearchCV\n",
        "from sklearn.ensemble import RandomForestClassifier\n",
        "\n",
        "# Define the parameter grid for hyperparameter tuning\n",
        "params_grid = {\n",
        "    'n_estimators': [5,10,20],\n",
        "    'max_depth': [2,3,5,7]\n",
        "    #'min_samples_split': [1000, 2000, 4000]\n",
        "    #'min_samples_leaf': [250,500, 1000],\n",
        "}\n",
        "\n",
        "# Initialize the Random Forest Classifier model\n",
        "model = RandomForestClassifier(random_state=50)\n",
        "\n",
        "# Initialize RandomizedSearchCV\n",
        "grid_search = GridSearchCV(estimator=model, param_grid=params_grid,n_jobs=-1, scoring='recall', cv=2,verbose=1)\n",
        "\n",
        "# Perform hyperparameter tuning on the training data\n",
        "grid_search.fit(X_train_resampled, y_train_resampled)\n",
        "\n",
        "# Get the best parameters and best model\n",
        "score_df = pd.DataFrame(grid_search.cv_results_)\n",
        "score_df.head()\n"
      ]
    },
    {
      "cell_type": "code",
      "execution_count": null,
      "id": "c95ade77",
      "metadata": {
        "execution": {
          "iopub.execute_input": "2023-09-05T21:20:48.860709Z",
          "iopub.status.busy": "2023-09-05T21:20:48.859909Z",
          "iopub.status.idle": "2023-09-05T21:20:48.885170Z",
          "shell.execute_reply": "2023-09-05T21:20:48.884201Z"
        },
        "id": "c95ade77",
        "papermill": {
          "duration": 0.054097,
          "end_time": "2023-09-05T21:20:48.887171",
          "exception": false,
          "start_time": "2023-09-05T21:20:48.833074",
          "status": "completed"
        },
        "tags": []
      },
      "outputs": [],
      "source": [
        "score_df.nlargest(5,\"mean_test_score\")"
      ]
    },
    {
      "cell_type": "code",
      "execution_count": null,
      "id": "856da282",
      "metadata": {
        "execution": {
          "iopub.execute_input": "2023-09-05T21:20:48.941354Z",
          "iopub.status.busy": "2023-09-05T21:20:48.940518Z",
          "iopub.status.idle": "2023-09-05T21:20:48.947828Z",
          "shell.execute_reply": "2023-09-05T21:20:48.946844Z"
        },
        "id": "856da282",
        "papermill": {
          "duration": 0.036226,
          "end_time": "2023-09-05T21:20:48.949967",
          "exception": false,
          "start_time": "2023-09-05T21:20:48.913741",
          "status": "completed"
        },
        "tags": []
      },
      "outputs": [],
      "source": [
        "# Make predictions on the test set using the best model\n",
        "grid_search.best_estimator_\n"
      ]
    },
    {
      "cell_type": "code",
      "execution_count": null,
      "id": "010dab93",
      "metadata": {
        "execution": {
          "iopub.execute_input": "2023-09-05T21:20:49.005777Z",
          "iopub.status.busy": "2023-09-05T21:20:49.005031Z",
          "iopub.status.idle": "2023-09-05T21:20:49.032379Z",
          "shell.execute_reply": "2023-09-05T21:20:49.031551Z"
        },
        "id": "010dab93",
        "papermill": {
          "duration": 0.056691,
          "end_time": "2023-09-05T21:20:49.034704",
          "exception": false,
          "start_time": "2023-09-05T21:20:48.978013",
          "status": "completed"
        },
        "tags": []
      },
      "outputs": [],
      "source": [
        "rf_best = grid_search.best_estimator_\n",
        "\n",
        "# Make predictions on the test set using the best model\n",
        "y_pred = rf_best.predict(X_test)"
      ]
    },
    {
      "cell_type": "code",
      "execution_count": null,
      "id": "3f134a9b",
      "metadata": {
        "execution": {
          "iopub.execute_input": "2023-09-05T21:20:49.088874Z",
          "iopub.status.busy": "2023-09-05T21:20:49.088022Z",
          "iopub.status.idle": "2023-09-05T21:20:49.139249Z",
          "shell.execute_reply": "2023-09-05T21:20:49.138436Z"
        },
        "id": "3f134a9b",
        "papermill": {
          "duration": 0.080511,
          "end_time": "2023-09-05T21:20:49.141408",
          "exception": false,
          "start_time": "2023-09-05T21:20:49.060897",
          "status": "completed"
        },
        "tags": []
      },
      "outputs": [],
      "source": [
        "# Calculate the metrics\n",
        "accuracy = accuracy_score(y_test, y_pred)\n",
        "precision = precision_score(y_test, y_pred)\n",
        "recall = recall_score(y_test, y_pred)\n",
        "f1 = f1_score(y_test, y_pred)"
      ]
    },
    {
      "cell_type": "code",
      "execution_count": null,
      "id": "39f63845",
      "metadata": {
        "execution": {
          "iopub.execute_input": "2023-09-05T21:20:49.196233Z",
          "iopub.status.busy": "2023-09-05T21:20:49.195505Z",
          "iopub.status.idle": "2023-09-05T21:20:49.205269Z",
          "shell.execute_reply": "2023-09-05T21:20:49.203775Z"
        },
        "id": "39f63845",
        "papermill": {
          "duration": 0.039151,
          "end_time": "2023-09-05T21:20:49.207314",
          "exception": false,
          "start_time": "2023-09-05T21:20:49.168163",
          "status": "completed"
        },
        "tags": []
      },
      "outputs": [],
      "source": [
        "\n",
        "# Append the results as a row to the DataFrame\n",
        "results_mod = results_mod._append({'Model': 'Random_forest', 'Accuracy': accuracy, 'Precision': precision, 'Recall': recall, 'F1-Score': f1}, ignore_index=True)\n",
        "print(results_mod)\n"
      ]
    },
    {
      "cell_type": "markdown",
      "id": "9efaffd7",
      "metadata": {
        "id": "9efaffd7",
        "papermill": {
          "duration": 0.02623,
          "end_time": "2023-09-05T21:20:49.260313",
          "exception": false,
          "start_time": "2023-09-05T21:20:49.234083",
          "status": "completed"
        },
        "tags": []
      },
      "source": [
        "We observe that Random Forest Classifier has a lower Recall, but a higher F1 score as it has a better Precision"
      ]
    },
    {
      "cell_type": "markdown",
      "id": "f746a14a",
      "metadata": {
        "id": "f746a14a",
        "papermill": {
          "duration": 0.026321,
          "end_time": "2023-09-05T21:20:49.312931",
          "exception": false,
          "start_time": "2023-09-05T21:20:49.286610",
          "status": "completed"
        },
        "tags": []
      },
      "source": [
        "#Using XGBoost"
      ]
    },
    {
      "cell_type": "code",
      "execution_count": null,
      "id": "10b67c72",
      "metadata": {
        "execution": {
          "iopub.execute_input": "2023-09-05T21:20:49.368853Z",
          "iopub.status.busy": "2023-09-05T21:20:49.367842Z",
          "iopub.status.idle": "2023-09-05T21:26:42.142485Z",
          "shell.execute_reply": "2023-09-05T21:26:42.141563Z"
        },
        "id": "10b67c72",
        "papermill": {
          "duration": 352.830833,
          "end_time": "2023-09-05T21:26:42.171268",
          "exception": false,
          "start_time": "2023-09-05T21:20:49.340435",
          "status": "completed"
        },
        "tags": []
      },
      "outputs": [],
      "source": [
        "from xgboost import XGBClassifier\n",
        "\n",
        "# Define the parameter grid for hyperparameter tuning\n",
        "param_grid = {\n",
        "    'n_estimators': [5,10,20],\n",
        "    'max_depth': [2,3,5,7]\n",
        "    #'learning_rate': [0.01, 0.1],\n",
        "}\n",
        "\n",
        "# Initialize the XGBoost Classifier model\n",
        "model = XGBClassifier(random_state=50)\n",
        "\n",
        "# Initialize GridSearchCV\n",
        "grid_search = GridSearchCV(estimator=model, param_grid=param_grid, scoring='recall', cv=2, verbose=1)\n",
        "\n",
        "# Perform hyperparameter tuning on the training data\n",
        "grid_search.fit(X_train_resampled, y_train_resampled)\n"
      ]
    },
    {
      "cell_type": "code",
      "execution_count": null,
      "id": "aab1fc77",
      "metadata": {
        "execution": {
          "iopub.execute_input": "2023-09-05T21:26:42.226594Z",
          "iopub.status.busy": "2023-09-05T21:26:42.225814Z",
          "iopub.status.idle": "2023-09-05T21:26:42.230462Z",
          "shell.execute_reply": "2023-09-05T21:26:42.229537Z"
        },
        "id": "aab1fc77",
        "papermill": {
          "duration": 0.034413,
          "end_time": "2023-09-05T21:26:42.232487",
          "exception": false,
          "start_time": "2023-09-05T21:26:42.198074",
          "status": "completed"
        },
        "tags": []
      },
      "outputs": [],
      "source": [
        "# Get the best parameters and best model\n",
        "best_params = grid_search.best_params_\n",
        "xg_best_model = grid_search.best_estimator_"
      ]
    },
    {
      "cell_type": "code",
      "execution_count": null,
      "id": "9c75be7d",
      "metadata": {
        "execution": {
          "iopub.execute_input": "2023-09-05T21:26:42.289335Z",
          "iopub.status.busy": "2023-09-05T21:26:42.289064Z",
          "iopub.status.idle": "2023-09-05T21:26:42.332996Z",
          "shell.execute_reply": "2023-09-05T21:26:42.332340Z"
        },
        "id": "9c75be7d",
        "papermill": {
          "duration": 0.075814,
          "end_time": "2023-09-05T21:26:42.334889",
          "exception": false,
          "start_time": "2023-09-05T21:26:42.259075",
          "status": "completed"
        },
        "tags": []
      },
      "outputs": [],
      "source": [
        "# Make predictions on the test set using the best model\n",
        "y_pred = xg_best_model.predict(X_test)"
      ]
    },
    {
      "cell_type": "code",
      "execution_count": null,
      "id": "e9b15067",
      "metadata": {
        "execution": {
          "iopub.execute_input": "2023-09-05T21:26:42.390424Z",
          "iopub.status.busy": "2023-09-05T21:26:42.390163Z",
          "iopub.status.idle": "2023-09-05T21:26:42.446813Z",
          "shell.execute_reply": "2023-09-05T21:26:42.445683Z"
        },
        "id": "e9b15067",
        "papermill": {
          "duration": 0.087022,
          "end_time": "2023-09-05T21:26:42.449494",
          "exception": false,
          "start_time": "2023-09-05T21:26:42.362472",
          "status": "completed"
        },
        "tags": []
      },
      "outputs": [],
      "source": [
        "# Calculate the metrics\n",
        "accuracy = accuracy_score(y_test, y_pred)\n",
        "precision = precision_score(y_test, y_pred)\n",
        "recall = recall_score(y_test, y_pred)\n",
        "f1 = f1_score(y_test, y_pred)\n",
        "\n",
        "# Append the results as a row to the DataFrame\n",
        "results_mod = results_mod._append({'Model': 'XGBoost', 'Accuracy': accuracy, 'Precision': precision, 'Recall': recall, 'F1-Score': f1}, ignore_index=True)\n",
        "\n",
        "# Display the result DataFrame\n",
        "print(results_mod)"
      ]
    },
    {
      "cell_type": "markdown",
      "id": "3fb2512f",
      "metadata": {
        "id": "3fb2512f",
        "papermill": {
          "duration": 0.026335,
          "end_time": "2023-09-05T21:26:42.503633",
          "exception": false,
          "start_time": "2023-09-05T21:26:42.477298",
          "status": "completed"
        },
        "tags": []
      },
      "source": [
        "We observe that both Recall and Precision have improved compared to Random Forest in XG Boost"
      ]
    },
    {
      "cell_type": "code",
      "execution_count": null,
      "id": "ba42cc86",
      "metadata": {
        "execution": {
          "iopub.execute_input": "2023-09-05T21:26:42.558937Z",
          "iopub.status.busy": "2023-09-05T21:26:42.558672Z",
          "iopub.status.idle": "2023-09-05T21:31:19.496605Z",
          "shell.execute_reply": "2023-09-05T21:31:19.495570Z"
        },
        "id": "ba42cc86",
        "papermill": {
          "duration": 277.288595,
          "end_time": "2023-09-05T21:31:19.819379",
          "exception": false,
          "start_time": "2023-09-05T21:26:42.530784",
          "status": "completed"
        },
        "tags": []
      },
      "outputs": [],
      "source": [
        "from keras.models import Sequential\n",
        "from keras.layers import Dense\n",
        "import tensorflow as tf\n",
        "\n",
        "# Standardize the data\n",
        "scaler = StandardScaler()\n",
        "X_train_scaled = scaler.fit_transform(X_train_resampled)\n",
        "X_test_scaled = scaler.transform(X_test)\n",
        "\n",
        "\n",
        "# Initialize the neural network model\n",
        "nn_model = Sequential()\n",
        "\n",
        "# Add input layer and hidden layers\n",
        "nn_model.add(Dense(64, activation='relu'))\n",
        "nn_model.add(Dense(32, activation='relu'))\n",
        "nn_model.add(Dense(1, activation='sigmoid'))  # Output layer\n",
        "\n",
        "# Compile the model\n",
        "nn_model.compile(optimizer='adam', loss='binary_crossentropy', metrics=[tf.keras.metrics.Recall()])\n",
        "\n",
        "\n",
        "# Train the model on the training data\n",
        "nn_model.fit(X_train_scaled, y_train_resampled, epochs=5, batch_size=32, verbose=1)"
      ]
    },
    {
      "cell_type": "code",
      "execution_count": 85,
      "id": "e1659b60",
      "metadata": {
        "execution": {
          "iopub.execute_input": "2023-09-05T21:31:20.462122Z",
          "iopub.status.busy": "2023-09-05T21:31:20.461762Z",
          "iopub.status.idle": "2023-09-05T21:31:25.721732Z",
          "shell.execute_reply": "2023-09-05T21:31:25.720686Z"
        },
        "id": "e1659b60",
        "outputId": "8206552d-5d1b-46be-de9a-08e00a46426a",
        "papermill": {
          "duration": 5.586299,
          "end_time": "2023-09-05T21:31:25.724604",
          "exception": false,
          "start_time": "2023-09-05T21:31:20.138305",
          "status": "completed"
        },
        "tags": [],
        "colab": {
          "base_uri": "https://localhost:8080/"
        }
      },
      "outputs": [
        {
          "output_type": "stream",
          "name": "stdout",
          "text": [
            "1781/1781 [==============================] - 2s 1ms/step\n"
          ]
        }
      ],
      "source": [
        "# Make predictions on the test set\n",
        "y_pred_prob = nn_model.predict(X_test_scaled)"
      ]
    },
    {
      "cell_type": "code",
      "execution_count": 86,
      "id": "339583d5",
      "metadata": {
        "execution": {
          "iopub.execute_input": "2023-09-05T21:31:26.370465Z",
          "iopub.status.busy": "2023-09-05T21:31:26.370098Z",
          "iopub.status.idle": "2023-09-05T21:31:27.019614Z",
          "shell.execute_reply": "2023-09-05T21:31:27.018695Z"
        },
        "id": "339583d5",
        "outputId": "e6a4879d-d243-4b97-8948-64b9a24c6a62",
        "papermill": {
          "duration": 0.974901,
          "end_time": "2023-09-05T21:31:27.022256",
          "exception": false,
          "start_time": "2023-09-05T21:31:26.047355",
          "status": "completed"
        },
        "tags": [],
        "colab": {
          "base_uri": "https://localhost:8080/",
          "height": 489
        }
      },
      "outputs": [
        {
          "output_type": "display_data",
          "data": {
            "text/plain": [
              "<Figure size 640x480 with 1 Axes>"
            ],
            "image/png": "[encoded data removed]"
          },
          "metadata": {}
        },
        {
          "output_type": "stream",
          "name": "stdout",
          "text": [
            "Intersection Threshold: 1.0\n"
          ]
        }
      ],
      "source": [
        "from sklearn.metrics import precision_recall_curve, auc\n",
        "# Compute precision-recall curve\n",
        "precision, recall, thresholds = precision_recall_curve(y_test, y_pred_prob)\n",
        "\n",
        "# Calculate F1 score for different thresholds\n",
        "f1_scores = 2 * (precision * recall) / (precision + recall + 1e-10)\n",
        "\n",
        "# Calculate the intersection point\n",
        "intersection_idx = np.argmin(np.abs(precision - recall))\n",
        "intersection_threshold = thresholds[intersection_idx]\n",
        "\n",
        "# Plot precision-recall curve\n",
        "plt.plot(thresholds, precision[:-1], 'b-', label='Precision')\n",
        "plt.plot(thresholds, recall[:-1], 'g-', label='Recall')\n",
        "plt.axvline(x=intersection_threshold, color='r', linestyle='--', label='Intersection Threshold')\n",
        "plt.xlabel('Threshold')\n",
        "plt.ylabel('Score')\n",
        "plt.title('Precision-Recall Curve')\n",
        "plt.legend()\n",
        "plt.show()\n",
        "\n",
        "# Display the best threshold\n",
        "print(f\"Intersection Threshold: {intersection_threshold}\")"
      ]
    },
    {
      "cell_type": "code",
      "execution_count": 87,
      "id": "f9e2f4d9",
      "metadata": {
        "execution": {
          "iopub.execute_input": "2023-09-05T21:31:27.714887Z",
          "iopub.status.busy": "2023-09-05T21:31:27.714516Z",
          "iopub.status.idle": "2023-09-05T21:31:27.719873Z",
          "shell.execute_reply": "2023-09-05T21:31:27.718815Z"
        },
        "id": "f9e2f4d9",
        "papermill": {
          "duration": 0.332887,
          "end_time": "2023-09-05T21:31:27.722177",
          "exception": false,
          "start_time": "2023-09-05T21:31:27.389290",
          "status": "completed"
        },
        "tags": []
      },
      "outputs": [],
      "source": [
        "y_pred = (y_pred_prob > intersection_threshold).astype(int)"
      ]
    },
    {
      "cell_type": "code",
      "execution_count": 88,
      "id": "7f7fc033",
      "metadata": {
        "execution": {
          "iopub.execute_input": "2023-09-05T21:31:28.366805Z",
          "iopub.status.busy": "2023-09-05T21:31:28.366418Z",
          "iopub.status.idle": "2023-09-05T21:31:28.426218Z",
          "shell.execute_reply": "2023-09-05T21:31:28.425291Z"
        },
        "id": "7f7fc033",
        "outputId": "a079958e-208c-4dea-c4ac-5c5c2a8e246c",
        "papermill": {
          "duration": 0.386319,
          "end_time": "2023-09-05T21:31:28.428380",
          "exception": false,
          "start_time": "2023-09-05T21:31:28.042061",
          "status": "completed"
        },
        "tags": [],
        "colab": {
          "base_uri": "https://localhost:8080/"
        }
      },
      "outputs": [
        {
          "output_type": "stream",
          "name": "stdout",
          "text": [
            "                 Model  Accuracy  Precision    Recall  F1-Score\n",
            "0  Logistic_Regression  0.981093   0.076923  0.908163  0.141833\n",
            "1        NeuralNetwork  0.998280   0.000000  0.000000  0.000000\n"
          ]
        },
        {
          "output_type": "stream",
          "name": "stderr",
          "text": [
            "/usr/local/lib/python3.10/dist-packages/sklearn/metrics/_classification.py:1344: UndefinedMetricWarning: Precision is ill-defined and being set to 0.0 due to no predicted samples. Use `zero_division` parameter to control this behavior.\n",
            "  _warn_prf(average, modifier, msg_start, len(result))\n"
          ]
        }
      ],
      "source": [
        "# Calculate the metrics\n",
        "accuracy = accuracy_score(y_test, y_pred)\n",
        "precision = precision_score(y_test, y_pred)\n",
        "recall = recall_score(y_test, y_pred)\n",
        "f1 = f1_score(y_test, y_pred)\n",
        "\n",
        "# Append the results as a row to the DataFrame\n",
        "results_mod = results_mod._append({'Model': 'NeuralNetwork', 'Accuracy': accuracy, 'Precision': precision, 'Recall': recall, 'F1-Score': f1}, ignore_index=True)\n",
        "\n",
        "print(results_mod)"
      ]
    },
    {
      "cell_type": "markdown",
      "id": "4f7f67ea",
      "metadata": {
        "id": "4f7f67ea",
        "papermill": {
          "duration": 0.366166,
          "end_time": "2023-09-05T21:31:29.123738",
          "exception": false,
          "start_time": "2023-09-05T21:31:28.757572",
          "status": "completed"
        },
        "tags": []
      },
      "source": [
        "Thus, we observe that the KNN Classifier model has the best F1-Score as compared to all the other models. This is primarily due to a slightly high precision and an equally high recall score as compared to the next best model- Neural Network.\n",
        "\n",
        "Since, Recall was the main metric of measuement either of these models- KNN Classifier or the NN Model can be used."
      ]
    },
    {
      "cell_type": "markdown",
      "id": "7bde394a",
      "metadata": {
        "id": "7bde394a",
        "papermill": {
          "duration": 0.328284,
          "end_time": "2023-09-05T21:31:29.778287",
          "exception": false,
          "start_time": "2023-09-05T21:31:29.450003",
          "status": "completed"
        },
        "tags": []
      },
      "source": [
        "To understand the feature importance we use the simple logistic regression model that was built at the start."
      ]
    },
    {
      "cell_type": "markdown",
      "id": "6d9ea51e",
      "metadata": {
        "id": "6d9ea51e",
        "papermill": {
          "duration": 0.328043,
          "end_time": "2023-09-05T21:31:30.429488",
          "exception": false,
          "start_time": "2023-09-05T21:31:30.101445",
          "status": "completed"
        },
        "tags": []
      },
      "source": [
        "Printing the important features of the best model to understand the dataset\n",
        "This will not give much explanation on the already transformed dataset\n",
        "But it will help us in understanding if the dataset is not PCA transformed"
      ]
    },
    {
      "cell_type": "code",
      "execution_count": 89,
      "id": "5e4916ca",
      "metadata": {
        "execution": {
          "iopub.execute_input": "2023-09-05T21:31:31.089325Z",
          "iopub.status.busy": "2023-09-05T21:31:31.088883Z",
          "iopub.status.idle": "2023-09-05T21:31:31.103039Z",
          "shell.execute_reply": "2023-09-05T21:31:31.101861Z"
        },
        "id": "5e4916ca",
        "outputId": "0c86399d-8b06-426f-903d-5967d18d0c59",
        "papermill": {
          "duration": 0.347683,
          "end_time": "2023-09-05T21:31:31.105181",
          "exception": false,
          "start_time": "2023-09-05T21:31:30.757498",
          "status": "completed"
        },
        "tags": [],
        "colab": {
          "base_uri": "https://localhost:8080/"
        }
      },
      "outputs": [
        {
          "output_type": "stream",
          "name": "stdout",
          "text": [
            "Important Features:\n",
            "   Feature  Importance\n",
            "4       V4    0.891369\n",
            "22     V22    0.355718\n",
            "5       V5    0.293124\n",
            "19     V19    0.241732\n",
            "11     V11    0.192794\n",
            "1       V1    0.168503\n",
            "23     V23    0.101932\n",
            "24     V24    0.059614\n",
            "27     V27    0.042973\n",
            "28     V28    0.028365\n",
            "20     V20    0.020266\n",
            "21     V21    0.015916\n",
            "0     Time   -0.000037\n",
            "29  Amount   -0.000501\n",
            "26     V26   -0.002541\n",
            "7       V7   -0.138028\n",
            "18     V18   -0.145767\n",
            "25     V25   -0.208430\n",
            "6       V6   -0.258368\n",
            "15     V15   -0.277880\n",
            "2       V2   -0.282280\n",
            "8       V8   -0.398718\n",
            "13     V13   -0.434691\n",
            "9       V9   -0.561119\n",
            "10     V10   -0.565498\n",
            "16     V16   -0.631390\n",
            "3       V3   -0.821273\n",
            "12     V12   -0.843686\n",
            "17     V17   -0.982169\n",
            "14     V14   -1.428015\n"
          ]
        }
      ],
      "source": [
        "# Get the feature importances or coefficients\n",
        "# For logistic regression, you can access the coefficients using logreg.coef_\n",
        "feature_importances = logit_model.coef_[0]\n",
        "\n",
        "# Create a DataFrame to store feature names and their importances\n",
        "feature_importance_df = pd.DataFrame({'Feature': X_train.columns, 'Importance': feature_importances})\n",
        "\n",
        "# Sort the DataFrame by importance in descending order\n",
        "feature_importance_df = feature_importance_df.sort_values(by='Importance', ascending=False)\n",
        "\n",
        "# Print the important features and their importances\n",
        "print(\"Important Features:\")\n",
        "print(feature_importance_df)"
      ]
    },
    {
      "cell_type": "code",
      "source": [
        "import gradio as gr\n",
        "\n",
        "# Define the predict_fraud function\n",
        "def predict_fraud(Time, V1, V2, V3, V4, V5, V6, V7, V8, V9, V10, V11, V12, V13, V14, V15, V16, V17, V18, V19, V20, V21, V22, V23, V24, V25, V26, V27, V28, Amount):\n",
        "    # Convert input values to a format suitable for your model\n",
        "    input_features = [float(Time), float(V1), float(V2), float(V3), float(V4), float(V5), float(V6), float(V7), float(V8), float(V9), float(V10), float(V11), float(V12), float(V13), float(V14), float(V15), float(V16), float(V17), float(V18), float(V19), float(V20), float(V21), float(V22), float(V23), float(V24), float(V25), float(V26), float(V27), float(V28), float(Amount)]\n",
        "\n",
        "    # Make a prediction using your model\n",
        "    # Replace this with your actual prediction logic\n",
        "    prediction = \"Fraudulent\" if input_features[0] > 100 else \"Non-Fraudulent\"\n",
        "\n",
        "    return prediction\n",
        "\n",
        "# Create the Gradio interface\n",
        "iface = gr.Interface(\n",
        "    fn=predict_fraud,\n",
        "    inputs=[\n",
        "        gr.inputs.Number(label=\"Time\"),\n",
        "        gr.inputs.Number(label=\"V1\"),\n",
        "        gr.inputs.Number(label=\"V2\"),\n",
        "        gr.inputs.Number(label=\"V3\"),\n",
        "        gr.inputs.Number(label=\"V4\"),\n",
        "        gr.inputs.Number(label=\"V5\"),\n",
        "        gr.inputs.Number(label=\"V6\"),\n",
        "        gr.inputs.Number(label=\"V7\"),\n",
        "        gr.inputs.Number(label=\"V8\"),\n",
        "        gr.inputs.Number(label=\"V9\"),\n",
        "        gr.inputs.Number(label=\"V10\"),\n",
        "        gr.inputs.Number(label=\"V11\"),\n",
        "        gr.inputs.Number(label=\"V12\"),\n",
        "        gr.inputs.Number(label=\"V13\"),\n",
        "        gr.inputs.Number(label=\"V14\"),\n",
        "        gr.inputs.Number(label=\"V15\"),\n",
        "        gr.inputs.Number(label=\"V16\"),\n",
        "        gr.inputs.Number(label=\"V17\"),\n",
        "        gr.inputs.Number(label=\"V18\"),\n",
        "        gr.inputs.Number(label=\"V19\"),\n",
        "        gr.inputs.Number(label=\"V20\"),\n",
        "        gr.inputs.Number(label=\"V21\"),\n",
        "        gr.inputs.Number(label=\"V22\"),\n",
        "        gr.inputs.Number(label=\"V23\"),\n",
        "        gr.inputs.Number(label=\"V24\"),\n",
        "        gr.inputs.Number(label=\"V25\"),\n",
        "        gr.inputs.Number(label=\"V26\"),\n",
        "        gr.inputs.Number(label=\"V27\"),\n",
        "        gr.inputs.Number(label=\"V28\"),\n",
        "        gr.inputs.Number(label=\"Amount\")\n",
        "    ],\n",
        "    outputs=gr.outputs.Textbox()\n",
        ")\n",
        "\n",
        "# Launch the Gradio interface\n",
        "iface.launch()\n"
      ],
      "metadata": {
        "colab": {
          "base_uri": "https://localhost:8080/",
          "height": 1000
        },
        "id": "hVbqkkZc4nb4",
        "outputId": "6339c5b8-df84-4c76-aaa4-4d769f1c0aa6"
      },
      "id": "hVbqkkZc4nb4",
      "execution_count": 101,
      "outputs": [
        {
          "output_type": "stream",
          "name": "stderr",
          "text": [
            "<ipython-input-101-3d354ab3f341>:18: GradioDeprecationWarning: Usage of gradio.inputs is deprecated, and will not be supported in the future, please import your component from gradio.components\n",
            "  gr.inputs.Number(label=\"Time\"),\n",
            "<ipython-input-101-3d354ab3f341>:18: GradioDeprecationWarning: `optional` parameter is deprecated, and it has no effect\n",
            "  gr.inputs.Number(label=\"Time\"),\n",
            "<ipython-input-101-3d354ab3f341>:19: GradioDeprecationWarning: Usage of gradio.inputs is deprecated, and will not be supported in the future, please import your component from gradio.components\n",
            "  gr.inputs.Number(label=\"V1\"),\n",
            "<ipython-input-101-3d354ab3f341>:19: GradioDeprecationWarning: `optional` parameter is deprecated, and it has no effect\n",
            "  gr.inputs.Number(label=\"V1\"),\n",
            "<ipython-input-101-3d354ab3f341>:20: GradioDeprecationWarning: Usage of gradio.inputs is deprecated, and will not be supported in the future, please import your component from gradio.components\n",
            "  gr.inputs.Number(label=\"V2\"),\n",
            "<ipython-input-101-3d354ab3f341>:20: GradioDeprecationWarning: `optional` parameter is deprecated, and it has no effect\n",
            "  gr.inputs.Number(label=\"V2\"),\n",
            "<ipython-input-101-3d354ab3f341>:21: GradioDeprecationWarning: Usage of gradio.inputs is deprecated, and will not be supported in the future, please import your component from gradio.components\n",
            "  gr.inputs.Number(label=\"V3\"),\n",
            "<ipython-input-101-3d354ab3f341>:21: GradioDeprecationWarning: `optional` parameter is deprecated, and it has no effect\n",
            "  gr.inputs.Number(label=\"V3\"),\n",
            "<ipython-input-101-3d354ab3f341>:22: GradioDeprecationWarning: Usage of gradio.inputs is deprecated, and will not be supported in the future, please import your component from gradio.components\n",
            "  gr.inputs.Number(label=\"V4\"),\n",
            "<ipython-input-101-3d354ab3f341>:22: GradioDeprecationWarning: `optional` parameter is deprecated, and it has no effect\n",
            "  gr.inputs.Number(label=\"V4\"),\n",
            "<ipython-input-101-3d354ab3f341>:23: GradioDeprecationWarning: Usage of gradio.inputs is deprecated, and will not be supported in the future, please import your component from gradio.components\n",
            "  gr.inputs.Number(label=\"V5\"),\n",
            "<ipython-input-101-3d354ab3f341>:23: GradioDeprecationWarning: `optional` parameter is deprecated, and it has no effect\n",
            "  gr.inputs.Number(label=\"V5\"),\n",
            "<ipython-input-101-3d354ab3f341>:24: GradioDeprecationWarning: Usage of gradio.inputs is deprecated, and will not be supported in the future, please import your component from gradio.components\n",
            "  gr.inputs.Number(label=\"V6\"),\n",
            "<ipython-input-101-3d354ab3f341>:24: GradioDeprecationWarning: `optional` parameter is deprecated, and it has no effect\n",
            "  gr.inputs.Number(label=\"V6\"),\n",
            "<ipython-input-101-3d354ab3f341>:25: GradioDeprecationWarning: Usage of gradio.inputs is deprecated, and will not be supported in the future, please import your component from gradio.components\n",
            "  gr.inputs.Number(label=\"V7\"),\n",
            "<ipython-input-101-3d354ab3f341>:25: GradioDeprecationWarning: `optional` parameter is deprecated, and it has no effect\n",
            "  gr.inputs.Number(label=\"V7\"),\n",
            "<ipython-input-101-3d354ab3f341>:26: GradioDeprecationWarning: Usage of gradio.inputs is deprecated, and will not be supported in the future, please import your component from gradio.components\n",
            "  gr.inputs.Number(label=\"V8\"),\n",
            "<ipython-input-101-3d354ab3f341>:26: GradioDeprecationWarning: `optional` parameter is deprecated, and it has no effect\n",
            "  gr.inputs.Number(label=\"V8\"),\n",
            "<ipython-input-101-3d354ab3f341>:27: GradioDeprecationWarning: Usage of gradio.inputs is deprecated, and will not be supported in the future, please import your component from gradio.components\n",
            "  gr.inputs.Number(label=\"V9\"),\n",
            "<ipython-input-101-3d354ab3f341>:27: GradioDeprecationWarning: `optional` parameter is deprecated, and it has no effect\n",
            "  gr.inputs.Number(label=\"V9\"),\n",
            "<ipython-input-101-3d354ab3f341>:28: GradioDeprecationWarning: Usage of gradio.inputs is deprecated, and will not be supported in the future, please import your component from gradio.components\n",
            "  gr.inputs.Number(label=\"V10\"),\n",
            "<ipython-input-101-3d354ab3f341>:28: GradioDeprecationWarning: `optional` parameter is deprecated, and it has no effect\n",
            "  gr.inputs.Number(label=\"V10\"),\n",
            "<ipython-input-101-3d354ab3f341>:29: GradioDeprecationWarning: Usage of gradio.inputs is deprecated, and will not be supported in the future, please import your component from gradio.components\n",
            "  gr.inputs.Number(label=\"V11\"),\n",
            "<ipython-input-101-3d354ab3f341>:29: GradioDeprecationWarning: `optional` parameter is deprecated, and it has no effect\n",
            "  gr.inputs.Number(label=\"V11\"),\n",
            "<ipython-input-101-3d354ab3f341>:30: GradioDeprecationWarning: Usage of gradio.inputs is deprecated, and will not be supported in the future, please import your component from gradio.components\n",
            "  gr.inputs.Number(label=\"V12\"),\n",
            "<ipython-input-101-3d354ab3f341>:30: GradioDeprecationWarning: `optional` parameter is deprecated, and it has no effect\n",
            "  gr.inputs.Number(label=\"V12\"),\n",
            "<ipython-input-101-3d354ab3f341>:31: GradioDeprecationWarning: Usage of gradio.inputs is deprecated, and will not be supported in the future, please import your component from gradio.components\n",
            "  gr.inputs.Number(label=\"V13\"),\n",
            "<ipython-input-101-3d354ab3f341>:31: GradioDeprecationWarning: `optional` parameter is deprecated, and it has no effect\n",
            "  gr.inputs.Number(label=\"V13\"),\n",
            "<ipython-input-101-3d354ab3f341>:32: GradioDeprecationWarning: Usage of gradio.inputs is deprecated, and will not be supported in the future, please import your component from gradio.components\n",
            "  gr.inputs.Number(label=\"V14\"),\n",
            "<ipython-input-101-3d354ab3f341>:32: GradioDeprecationWarning: `optional` parameter is deprecated, and it has no effect\n",
            "  gr.inputs.Number(label=\"V14\"),\n",
            "<ipython-input-101-3d354ab3f341>:33: GradioDeprecationWarning: Usage of gradio.inputs is deprecated, and will not be supported in the future, please import your component from gradio.components\n",
            "  gr.inputs.Number(label=\"V15\"),\n",
            "<ipython-input-101-3d354ab3f341>:33: GradioDeprecationWarning: `optional` parameter is deprecated, and it has no effect\n",
            "  gr.inputs.Number(label=\"V15\"),\n",
            "<ipython-input-101-3d354ab3f341>:34: GradioDeprecationWarning: Usage of gradio.inputs is deprecated, and will not be supported in the future, please import your component from gradio.components\n",
            "  gr.inputs.Number(label=\"V16\"),\n",
            "<ipython-input-101-3d354ab3f341>:34: GradioDeprecationWarning: `optional` parameter is deprecated, and it has no effect\n",
            "  gr.inputs.Number(label=\"V16\"),\n",
            "<ipython-input-101-3d354ab3f341>:35: GradioDeprecationWarning: Usage of gradio.inputs is deprecated, and will not be supported in the future, please import your component from gradio.components\n",
            "  gr.inputs.Number(label=\"V17\"),\n",
            "<ipython-input-101-3d354ab3f341>:35: GradioDeprecationWarning: `optional` parameter is deprecated, and it has no effect\n",
            "  gr.inputs.Number(label=\"V17\"),\n",
            "<ipython-input-101-3d354ab3f341>:36: GradioDeprecationWarning: Usage of gradio.inputs is deprecated, and will not be supported in the future, please import your component from gradio.components\n",
            "  gr.inputs.Number(label=\"V18\"),\n",
            "<ipython-input-101-3d354ab3f341>:36: GradioDeprecationWarning: `optional` parameter is deprecated, and it has no effect\n",
            "  gr.inputs.Number(label=\"V18\"),\n",
            "<ipython-input-101-3d354ab3f341>:37: GradioDeprecationWarning: Usage of gradio.inputs is deprecated, and will not be supported in the future, please import your component from gradio.components\n",
            "  gr.inputs.Number(label=\"V19\"),\n",
            "<ipython-input-101-3d354ab3f341>:37: GradioDeprecationWarning: `optional` parameter is deprecated, and it has no effect\n",
            "  gr.inputs.Number(label=\"V19\"),\n",
            "<ipython-input-101-3d354ab3f341>:38: GradioDeprecationWarning: Usage of gradio.inputs is deprecated, and will not be supported in the future, please import your component from gradio.components\n",
            "  gr.inputs.Number(label=\"V20\"),\n",
            "<ipython-input-101-3d354ab3f341>:38: GradioDeprecationWarning: `optional` parameter is deprecated, and it has no effect\n",
            "  gr.inputs.Number(label=\"V20\"),\n",
            "<ipython-input-101-3d354ab3f341>:39: GradioDeprecationWarning: Usage of gradio.inputs is deprecated, and will not be supported in the future, please import your component from gradio.components\n",
            "  gr.inputs.Number(label=\"V21\"),\n",
            "<ipython-input-101-3d354ab3f341>:39: GradioDeprecationWarning: `optional` parameter is deprecated, and it has no effect\n",
            "  gr.inputs.Number(label=\"V21\"),\n",
            "<ipython-input-101-3d354ab3f341>:40: GradioDeprecationWarning: Usage of gradio.inputs is deprecated, and will not be supported in the future, please import your component from gradio.components\n",
            "  gr.inputs.Number(label=\"V22\"),\n",
            "<ipython-input-101-3d354ab3f341>:40: GradioDeprecationWarning: `optional` parameter is deprecated, and it has no effect\n",
            "  gr.inputs.Number(label=\"V22\"),\n",
            "<ipython-input-101-3d354ab3f341>:41: GradioDeprecationWarning: Usage of gradio.inputs is deprecated, and will not be supported in the future, please import your component from gradio.components\n",
            "  gr.inputs.Number(label=\"V23\"),\n",
            "<ipython-input-101-3d354ab3f341>:41: GradioDeprecationWarning: `optional` parameter is deprecated, and it has no effect\n",
            "  gr.inputs.Number(label=\"V23\"),\n",
            "<ipython-input-101-3d354ab3f341>:42: GradioDeprecationWarning: Usage of gradio.inputs is deprecated, and will not be supported in the future, please import your component from gradio.components\n",
            "  gr.inputs.Number(label=\"V24\"),\n",
            "<ipython-input-101-3d354ab3f341>:42: GradioDeprecationWarning: `optional` parameter is deprecated, and it has no effect\n",
            "  gr.inputs.Number(label=\"V24\"),\n",
            "<ipython-input-101-3d354ab3f341>:43: GradioDeprecationWarning: Usage of gradio.inputs is deprecated, and will not be supported in the future, please import your component from gradio.components\n",
            "  gr.inputs.Number(label=\"V25\"),\n",
            "<ipython-input-101-3d354ab3f341>:43: GradioDeprecationWarning: `optional` parameter is deprecated, and it has no effect\n",
            "  gr.inputs.Number(label=\"V25\"),\n",
            "<ipython-input-101-3d354ab3f341>:44: GradioDeprecationWarning: Usage of gradio.inputs is deprecated, and will not be supported in the future, please import your component from gradio.components\n",
            "  gr.inputs.Number(label=\"V26\"),\n",
            "<ipython-input-101-3d354ab3f341>:44: GradioDeprecationWarning: `optional` parameter is deprecated, and it has no effect\n",
            "  gr.inputs.Number(label=\"V26\"),\n",
            "<ipython-input-101-3d354ab3f341>:45: GradioDeprecationWarning: Usage of gradio.inputs is deprecated, and will not be supported in the future, please import your component from gradio.components\n",
            "  gr.inputs.Number(label=\"V27\"),\n",
            "<ipython-input-101-3d354ab3f341>:45: GradioDeprecationWarning: `optional` parameter is deprecated, and it has no effect\n",
            "  gr.inputs.Number(label=\"V27\"),\n",
            "<ipython-input-101-3d354ab3f341>:46: GradioDeprecationWarning: Usage of gradio.inputs is deprecated, and will not be supported in the future, please import your component from gradio.components\n",
            "  gr.inputs.Number(label=\"V28\"),\n",
            "<ipython-input-101-3d354ab3f341>:46: GradioDeprecationWarning: `optional` parameter is deprecated, and it has no effect\n",
            "  gr.inputs.Number(label=\"V28\"),\n",
            "<ipython-input-101-3d354ab3f341>:47: GradioDeprecationWarning: Usage of gradio.inputs is deprecated, and will not be supported in the future, please import your component from gradio.components\n",
            "  gr.inputs.Number(label=\"Amount\")\n",
            "<ipython-input-101-3d354ab3f341>:47: GradioDeprecationWarning: `optional` parameter is deprecated, and it has no effect\n",
            "  gr.inputs.Number(label=\"Amount\")\n",
            "<ipython-input-101-3d354ab3f341>:49: GradioDeprecationWarning: Usage of gradio.outputs is deprecated, and will not be supported in the future, please import your components from gradio.components\n",
            "  outputs=gr.outputs.Textbox()\n"
          ]
        },
        {
          "output_type": "stream",
          "name": "stdout",
          "text": [
            "Colab notebook detected. To show errors in colab notebook, set debug=True in launch()\n",
            "Note: opening Chrome Inspector may crash demo inside Colab notebooks.\n",
            "\n",
            "To create a public link, set `share=True` in `launch()`.\n"
          ]
        },
        {
          "output_type": "display_data",
          "data": {
            "text/plain": [
              "<IPython.core.display.Javascript object>"
            ],
            "application/javascript": [
              "(async (port, path, width, height, cache, element) => {\n",
              "                        if (!google.colab.kernel.accessAllowed && !cache) {\n",
              "                            return;\n",
              "                        }\n",
              "                        element.appendChild(document.createTextNode(''));\n",
              "                        const url = await google.colab.kernel.proxyPort(port, {cache});\n",
              "\n",
              "                        const external_link = document.createElement('div');\n",
              "                        external_link.innerHTML = `\n",
              "                            <div style=\"font-family: monospace; margin-bottom: 0.5rem\">\n",
              "                                Running on <a href=${new URL(path, url).toString()} target=\"_blank\">\n",
              "                                    https://localhost:${port}${path}\n",
              "                                </a>\n",
              "                            </div>\n",
              "                        `;\n",
              "                        element.appendChild(external_link);\n",
              "\n",
              "                        const iframe = document.createElement('iframe');\n",
              "                        iframe.src = new URL(path, url).toString();\n",
              "                        iframe.height = height;\n",
              "                        iframe.allow = \"autoplay; camera; microphone; clipboard-read; clipboard-write;\"\n",
              "                        iframe.width = width;\n",
              "                        iframe.style.border = 0;\n",
              "                        element.appendChild(iframe);\n",
              "                    })(7865, \"/\", \"100%\", 500, false, window.element)"
            ]
          },
          "metadata": {}
        },
        {
          "output_type": "execute_result",
          "data": {
            "text/plain": []
          },
          "metadata": {},
          "execution_count": 101
        }
      ]
    },
    {
      "cell_type": "code",
      "source": [
        "!pip install gradio\n"
      ],
      "metadata": {
        "colab": {
          "base_uri": "https://localhost:8080/"
        },
        "id": "uk-S28FP4xXN",
        "outputId": "a618db67-a2bd-40ec-8930-513da40a9dba"
      },
      "id": "uk-S28FP4xXN",
      "execution_count": 91,
      "outputs": [
        {
          "output_type": "stream",
          "name": "stdout",
          "text": [
            "Requirement already satisfied: gradio in /usr/local/lib/python3.10/dist-packages (3.42.0)\n",
            "Requirement already satisfied: aiofiles<24.0,>=22.0 in /usr/local/lib/python3.10/dist-packages (from gradio) (23.2.1)\n",
            "Requirement already satisfied: altair<6.0,>=4.2.0 in /usr/local/lib/python3.10/dist-packages (from gradio) (4.2.2)\n",
            "Requirement already satisfied: fastapi in /usr/local/lib/python3.10/dist-packages (from gradio) (0.103.1)\n",
            "Requirement already satisfied: ffmpy in /usr/local/lib/python3.10/dist-packages (from gradio) (0.3.1)\n",
            "Requirement already satisfied: gradio-client==0.5.0 in /usr/local/lib/python3.10/dist-packages (from gradio) (0.5.0)\n",
            "Requirement already satisfied: httpx in /usr/local/lib/python3.10/dist-packages (from gradio) (0.24.1)\n",
            "Requirement already satisfied: huggingface-hub>=0.14.0 in /usr/local/lib/python3.10/dist-packages (from gradio) (0.16.4)\n",
            "Requirement already satisfied: importlib-resources<7.0,>=1.3 in /usr/local/lib/python3.10/dist-packages (from gradio) (6.0.1)\n",
            "Requirement already satisfied: jinja2<4.0 in /usr/local/lib/python3.10/dist-packages (from gradio) (3.1.2)\n",
            "Requirement already satisfied: markupsafe~=2.0 in /usr/local/lib/python3.10/dist-packages (from gradio) (2.1.3)\n",
            "Requirement already satisfied: matplotlib~=3.0 in /usr/local/lib/python3.10/dist-packages (from gradio) (3.7.1)\n",
            "Requirement already satisfied: numpy~=1.0 in /usr/local/lib/python3.10/dist-packages (from gradio) (1.23.5)\n",
            "Requirement already satisfied: orjson~=3.0 in /usr/local/lib/python3.10/dist-packages (from gradio) (3.9.5)\n",
            "Requirement already satisfied: packaging in /usr/local/lib/python3.10/dist-packages (from gradio) (23.1)\n",
            "Requirement already satisfied: pandas<3.0,>=1.0 in /usr/local/lib/python3.10/dist-packages (from gradio) (1.5.3)\n",
            "Requirement already satisfied: pillow<11.0,>=8.0 in /usr/local/lib/python3.10/dist-packages (from gradio) (9.4.0)\n",
            "Requirement already satisfied: pydantic!=1.8,!=1.8.1,!=2.0.0,!=2.0.1,<3.0.0,>=1.7.4 in /usr/local/lib/python3.10/dist-packages (from gradio) (2.2.1)\n",
            "Requirement already satisfied: pydub in /usr/local/lib/python3.10/dist-packages (from gradio) (0.25.1)\n",
            "Requirement already satisfied: python-multipart in /usr/local/lib/python3.10/dist-packages (from gradio) (0.0.6)\n",
            "Requirement already satisfied: pyyaml<7.0,>=5.0 in /usr/local/lib/python3.10/dist-packages (from gradio) (6.0.1)\n",
            "Requirement already satisfied: requests~=2.0 in /usr/local/lib/python3.10/dist-packages (from gradio) (2.31.0)\n",
            "Requirement already satisfied: semantic-version~=2.0 in /usr/local/lib/python3.10/dist-packages (from gradio) (2.10.0)\n",
            "Requirement already satisfied: typing-extensions~=4.0 in /usr/local/lib/python3.10/dist-packages (from gradio) (4.7.1)\n",
            "Requirement already satisfied: uvicorn>=0.14.0 in /usr/local/lib/python3.10/dist-packages (from gradio) (0.23.2)\n",
            "Requirement already satisfied: websockets<12.0,>=10.0 in /usr/local/lib/python3.10/dist-packages (from gradio) (11.0.3)\n",
            "Requirement already satisfied: fsspec in /usr/local/lib/python3.10/dist-packages (from gradio-client==0.5.0->gradio) (2023.6.0)\n",
            "Requirement already satisfied: entrypoints in /usr/local/lib/python3.10/dist-packages (from altair<6.0,>=4.2.0->gradio) (0.4)\n",
            "Requirement already satisfied: jsonschema>=3.0 in /usr/local/lib/python3.10/dist-packages (from altair<6.0,>=4.2.0->gradio) (4.19.0)\n",
            "Requirement already satisfied: toolz in /usr/local/lib/python3.10/dist-packages (from altair<6.0,>=4.2.0->gradio) (0.12.0)\n",
            "Requirement already satisfied: filelock in /usr/local/lib/python3.10/dist-packages (from huggingface-hub>=0.14.0->gradio) (3.12.2)\n",
            "Requirement already satisfied: tqdm>=4.42.1 in /usr/local/lib/python3.10/dist-packages (from huggingface-hub>=0.14.0->gradio) (4.66.1)\n",
            "Requirement already satisfied: contourpy>=1.0.1 in /usr/local/lib/python3.10/dist-packages (from matplotlib~=3.0->gradio) (1.1.0)\n",
            "Requirement already satisfied: cycler>=0.10 in /usr/local/lib/python3.10/dist-packages (from matplotlib~=3.0->gradio) (0.11.0)\n",
            "Requirement already satisfied: fonttools>=4.22.0 in /usr/local/lib/python3.10/dist-packages (from matplotlib~=3.0->gradio) (4.42.1)\n",
            "Requirement already satisfied: kiwisolver>=1.0.1 in /usr/local/lib/python3.10/dist-packages (from matplotlib~=3.0->gradio) (1.4.4)\n",
            "Requirement already satisfied: pyparsing>=2.3.1 in /usr/local/lib/python3.10/dist-packages (from matplotlib~=3.0->gradio) (3.1.1)\n",
            "Requirement already satisfied: python-dateutil>=2.7 in /usr/local/lib/python3.10/dist-packages (from matplotlib~=3.0->gradio) (2.8.2)\n",
            "Requirement already satisfied: pytz>=2020.1 in /usr/local/lib/python3.10/dist-packages (from pandas<3.0,>=1.0->gradio) (2023.3)\n",
            "Requirement already satisfied: annotated-types>=0.4.0 in /usr/local/lib/python3.10/dist-packages (from pydantic!=1.8,!=1.8.1,!=2.0.0,!=2.0.1,<3.0.0,>=1.7.4->gradio) (0.5.0)\n",
            "Requirement already satisfied: pydantic-core==2.6.1 in /usr/local/lib/python3.10/dist-packages (from pydantic!=1.8,!=1.8.1,!=2.0.0,!=2.0.1,<3.0.0,>=1.7.4->gradio) (2.6.1)\n",
            "Requirement already satisfied: charset-normalizer<4,>=2 in /usr/local/lib/python3.10/dist-packages (from requests~=2.0->gradio) (3.2.0)\n",
            "Requirement already satisfied: idna<4,>=2.5 in /usr/local/lib/python3.10/dist-packages (from requests~=2.0->gradio) (3.4)\n",
            "Requirement already satisfied: urllib3<3,>=1.21.1 in /usr/local/lib/python3.10/dist-packages (from requests~=2.0->gradio) (2.0.4)\n",
            "Requirement already satisfied: certifi>=2017.4.17 in /usr/local/lib/python3.10/dist-packages (from requests~=2.0->gradio) (2023.7.22)\n",
            "Requirement already satisfied: click>=7.0 in /usr/local/lib/python3.10/dist-packages (from uvicorn>=0.14.0->gradio) (8.1.7)\n",
            "Requirement already satisfied: h11>=0.8 in /usr/local/lib/python3.10/dist-packages (from uvicorn>=0.14.0->gradio) (0.14.0)\n",
            "Requirement already satisfied: anyio<4.0.0,>=3.7.1 in /usr/local/lib/python3.10/dist-packages (from fastapi->gradio) (3.7.1)\n",
            "Requirement already satisfied: starlette<0.28.0,>=0.27.0 in /usr/local/lib/python3.10/dist-packages (from fastapi->gradio) (0.27.0)\n",
            "Requirement already satisfied: httpcore<0.18.0,>=0.15.0 in /usr/local/lib/python3.10/dist-packages (from httpx->gradio) (0.17.3)\n",
            "Requirement already satisfied: sniffio in /usr/local/lib/python3.10/dist-packages (from httpx->gradio) (1.3.0)\n",
            "Requirement already satisfied: exceptiongroup in /usr/local/lib/python3.10/dist-packages (from anyio<4.0.0,>=3.7.1->fastapi->gradio) (1.1.3)\n",
            "Requirement already satisfied: attrs>=22.2.0 in /usr/local/lib/python3.10/dist-packages (from jsonschema>=3.0->altair<6.0,>=4.2.0->gradio) (23.1.0)\n",
            "Requirement already satisfied: jsonschema-specifications>=2023.03.6 in /usr/local/lib/python3.10/dist-packages (from jsonschema>=3.0->altair<6.0,>=4.2.0->gradio) (2023.7.1)\n",
            "Requirement already satisfied: referencing>=0.28.4 in /usr/local/lib/python3.10/dist-packages (from jsonschema>=3.0->altair<6.0,>=4.2.0->gradio) (0.30.2)\n",
            "Requirement already satisfied: rpds-py>=0.7.1 in /usr/local/lib/python3.10/dist-packages (from jsonschema>=3.0->altair<6.0,>=4.2.0->gradio) (0.9.2)\n",
            "Requirement already satisfied: six>=1.5 in /usr/local/lib/python3.10/dist-packages (from python-dateutil>=2.7->matplotlib~=3.0->gradio) (1.16.0)\n"
          ]
        }
      ]
    },
    {
      "cell_type": "code",
      "source": [],
      "metadata": {
        "id": "OuYWas-N4r2y"
      },
      "id": "OuYWas-N4r2y",
      "execution_count": 95,
      "outputs": []
    },
    {
      "cell_type": "code",
      "source": [],
      "metadata": {
        "colab": {
          "base_uri": "https://localhost:8080/",
          "height": 616
        },
        "id": "8D1I1tzf4st7",
        "outputId": "9c72a7a9-6ad5-41d3-c1d1-4446555a0c1d"
      },
      "id": "8D1I1tzf4st7",
      "execution_count": 96,
      "outputs": [
        {
          "output_type": "stream",
          "name": "stdout",
          "text": [
            "Colab notebook detected. To show errors in colab notebook, set debug=True in launch()\n",
            "Note: opening Chrome Inspector may crash demo inside Colab notebooks.\n",
            "\n",
            "To create a public link, set `share=True` in `launch()`.\n"
          ]
        },
        {
          "output_type": "display_data",
          "data": {
            "text/plain": [
              "<IPython.core.display.Javascript object>"
            ],
            "application/javascript": [
              "(async (port, path, width, height, cache, element) => {\n",
              "                        if (!google.colab.kernel.accessAllowed && !cache) {\n",
              "                            return;\n",
              "                        }\n",
              "                        element.appendChild(document.createTextNode(''));\n",
              "                        const url = await google.colab.kernel.proxyPort(port, {cache});\n",
              "\n",
              "                        const external_link = document.createElement('div');\n",
              "                        external_link.innerHTML = `\n",
              "                            <div style=\"font-family: monospace; margin-bottom: 0.5rem\">\n",
              "                                Running on <a href=${new URL(path, url).toString()} target=\"_blank\">\n",
              "                                    https://localhost:${port}${path}\n",
              "                                </a>\n",
              "                            </div>\n",
              "                        `;\n",
              "                        element.appendChild(external_link);\n",
              "\n",
              "                        const iframe = document.createElement('iframe');\n",
              "                        iframe.src = new URL(path, url).toString();\n",
              "                        iframe.height = height;\n",
              "                        iframe.allow = \"autoplay; camera; microphone; clipboard-read; clipboard-write;\"\n",
              "                        iframe.width = width;\n",
              "                        iframe.style.border = 0;\n",
              "                        element.appendChild(iframe);\n",
              "                    })(7861, \"/\", \"100%\", 500, false, window.element)"
            ]
          },
          "metadata": {}
        },
        {
          "output_type": "execute_result",
          "data": {
            "text/plain": []
          },
          "metadata": {},
          "execution_count": 96
        }
      ]
    },
    {
      "cell_type": "markdown",
      "id": "da04940c",
      "metadata": {
        "id": "da04940c",
        "papermill": {
          "duration": 0.360006,
          "end_time": "2023-09-05T21:31:31.852507",
          "exception": false,
          "start_time": "2023-09-05T21:31:31.492501",
          "status": "completed"
        },
        "tags": []
      },
      "source": [
        "The top order of feature importance is V4, V22 and V5"
      ]
    }
  ],
  "metadata": {
    "accelerator": "TPU",
    "colab": {
      "provenance": []
    },
    "kernelspec": {
      "display_name": "Python 3",
      "language": "python",
      "name": "python3"
    },
    "language_info": {
      "codemirror_mode": {
        "name": "ipython",
        "version": 3
      },
      "file_extension": ".py",
      "mimetype": "text/x-python",
      "name": "python",
      "nbconvert_exporter": "python",
      "pygments_lexer": "ipython3",
      "version": "3.10.12"
    },
    "papermill": {
      "default_parameters": {},
      "duration": 1300.084077,
      "end_time": "2023-09-05T21:31:35.106607",
      "environment_variables": {},
      "exception": null,
      "input_path": "__notebook__.ipynb",
      "output_path": "__notebook__.ipynb",
      "parameters": {},
      "start_time": "2023-09-05T21:09:55.022530",
      "version": "2.4.0"
    }
  },
  "nbformat": 4,
  "nbformat_minor": 5
}